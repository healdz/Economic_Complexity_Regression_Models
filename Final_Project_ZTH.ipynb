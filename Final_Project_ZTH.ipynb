{
 "cells": [
  {
   "cell_type": "code",
   "execution_count": 1,
   "metadata": {},
   "outputs": [],
   "source": [
    "import pandas as pd\n",
    "import numpy as np\n",
    "import re\n",
    "import csv\n",
    "import matplotlib.pyplot as plt\n",
    "import seaborn as sns\n",
    "import math\n"
   ]
  },
  {
   "cell_type": "markdown",
   "metadata": {},
   "source": [
    "# 1) Development Data"
   ]
  },
  {
   "cell_type": "code",
   "execution_count": 2,
   "metadata": {},
   "outputs": [
    {
     "name": "stdout",
     "output_type": "stream",
     "text": [
      "  % Total    % Received % Xferd  Average Speed   Time    Time     Time  Current\n",
      "                                 Dload  Upload   Total   Spent    Left  Speed\n",
      "100 1345k  100 1345k    0     0   264k      0  0:00:05  0:00:05 --:--:--  302k\n"
     ]
    }
   ],
   "source": [
    "# The Aid data can be downloaded directly here:\n",
    "!curl -o recipients.csv https://data.un.org/_Docs/SYB/CSV/SYB62_226_201907_Net%20Disbursements%20from%20Official%20ODA%20to%20Recipients.csv\n"
   ]
  },
  {
   "cell_type": "code",
   "execution_count": 169,
   "metadata": {},
   "outputs": [
    {
     "data": {
      "text/html": [
       "<div>\n",
       "<style scoped>\n",
       "    .dataframe tbody tr th:only-of-type {\n",
       "        vertical-align: middle;\n",
       "    }\n",
       "\n",
       "    .dataframe tbody tr th {\n",
       "        vertical-align: top;\n",
       "    }\n",
       "\n",
       "    .dataframe thead th {\n",
       "        text-align: right;\n",
       "    }\n",
       "</style>\n",
       "<table border=\"1\" class=\"dataframe\">\n",
       "  <thead>\n",
       "    <tr style=\"text-align: right;\">\n",
       "      <th></th>\n",
       "      <th>Region/Country/Area</th>\n",
       "      <th>Unnamed: 1</th>\n",
       "      <th>Year</th>\n",
       "      <th>Series</th>\n",
       "      <th>Value</th>\n",
       "      <th>Footnotes</th>\n",
       "      <th>Source</th>\n",
       "    </tr>\n",
       "  </thead>\n",
       "  <tbody>\n",
       "    <tr>\n",
       "      <th>0</th>\n",
       "      <td>1</td>\n",
       "      <td>Total, all countries or areas</td>\n",
       "      <td>1975</td>\n",
       "      <td>Net official development assistance received: ...</td>\n",
       "      <td>15188.71</td>\n",
       "      <td>Including regional aid disbursements in additi...</td>\n",
       "      <td>Organisation for Economic Co-operation and Dev...</td>\n",
       "    </tr>\n",
       "    <tr>\n",
       "      <th>1</th>\n",
       "      <td>1</td>\n",
       "      <td>Total, all countries or areas</td>\n",
       "      <td>1985</td>\n",
       "      <td>Net official development assistance received: ...</td>\n",
       "      <td>26347.81</td>\n",
       "      <td>Including regional aid disbursements in additi...</td>\n",
       "      <td>Organisation for Economic Co-operation and Dev...</td>\n",
       "    </tr>\n",
       "    <tr>\n",
       "      <th>2</th>\n",
       "      <td>1</td>\n",
       "      <td>Total, all countries or areas</td>\n",
       "      <td>1995</td>\n",
       "      <td>Net official development assistance received: ...</td>\n",
       "      <td>48267.84</td>\n",
       "      <td>Including regional aid disbursements in additi...</td>\n",
       "      <td>Organisation for Economic Co-operation and Dev...</td>\n",
       "    </tr>\n",
       "    <tr>\n",
       "      <th>3</th>\n",
       "      <td>1</td>\n",
       "      <td>Total, all countries or areas</td>\n",
       "      <td>2005</td>\n",
       "      <td>Net official development assistance received: ...</td>\n",
       "      <td>82922.81</td>\n",
       "      <td>Including regional aid disbursements in additi...</td>\n",
       "      <td>Organisation for Economic Co-operation and Dev...</td>\n",
       "    </tr>\n",
       "    <tr>\n",
       "      <th>4</th>\n",
       "      <td>1</td>\n",
       "      <td>Total, all countries or areas</td>\n",
       "      <td>2010</td>\n",
       "      <td>Net official development assistance received: ...</td>\n",
       "      <td>94440.61</td>\n",
       "      <td>Including regional aid disbursements in additi...</td>\n",
       "      <td>Organisation for Economic Co-operation and Dev...</td>\n",
       "    </tr>\n",
       "    <tr>\n",
       "      <th>...</th>\n",
       "      <td>...</td>\n",
       "      <td>...</td>\n",
       "      <td>...</td>\n",
       "      <td>...</td>\n",
       "      <td>...</td>\n",
       "      <td>...</td>\n",
       "      <td>...</td>\n",
       "    </tr>\n",
       "    <tr>\n",
       "      <th>5026</th>\n",
       "      <td>716</td>\n",
       "      <td>Zimbabwe</td>\n",
       "      <td>2005</td>\n",
       "      <td>Net official development assistance received: ...</td>\n",
       "      <td>6.80</td>\n",
       "      <td>NaN</td>\n",
       "      <td>Organisation for Economic Co-operation and Dev...</td>\n",
       "    </tr>\n",
       "    <tr>\n",
       "      <th>5027</th>\n",
       "      <td>716</td>\n",
       "      <td>Zimbabwe</td>\n",
       "      <td>2010</td>\n",
       "      <td>Net official development assistance received: ...</td>\n",
       "      <td>8.18</td>\n",
       "      <td>NaN</td>\n",
       "      <td>Organisation for Economic Co-operation and Dev...</td>\n",
       "    </tr>\n",
       "    <tr>\n",
       "      <th>5028</th>\n",
       "      <td>716</td>\n",
       "      <td>Zimbabwe</td>\n",
       "      <td>2015</td>\n",
       "      <td>Net official development assistance received: ...</td>\n",
       "      <td>5.50</td>\n",
       "      <td>NaN</td>\n",
       "      <td>Organisation for Economic Co-operation and Dev...</td>\n",
       "    </tr>\n",
       "    <tr>\n",
       "      <th>5029</th>\n",
       "      <td>716</td>\n",
       "      <td>Zimbabwe</td>\n",
       "      <td>2016</td>\n",
       "      <td>Net official development assistance received: ...</td>\n",
       "      <td>4.41</td>\n",
       "      <td>NaN</td>\n",
       "      <td>Organisation for Economic Co-operation and Dev...</td>\n",
       "    </tr>\n",
       "    <tr>\n",
       "      <th>5030</th>\n",
       "      <td>716</td>\n",
       "      <td>Zimbabwe</td>\n",
       "      <td>2017</td>\n",
       "      <td>Net official development assistance received: ...</td>\n",
       "      <td>4.60</td>\n",
       "      <td>NaN</td>\n",
       "      <td>Organisation for Economic Co-operation and Dev...</td>\n",
       "    </tr>\n",
       "  </tbody>\n",
       "</table>\n",
       "<p>5031 rows × 7 columns</p>\n",
       "</div>"
      ],
      "text/plain": [
       "      Region/Country/Area                     Unnamed: 1  Year  \\\n",
       "0                       1  Total, all countries or areas  1975   \n",
       "1                       1  Total, all countries or areas  1985   \n",
       "2                       1  Total, all countries or areas  1995   \n",
       "3                       1  Total, all countries or areas  2005   \n",
       "4                       1  Total, all countries or areas  2010   \n",
       "...                   ...                            ...   ...   \n",
       "5026                  716                       Zimbabwe  2005   \n",
       "5027                  716                       Zimbabwe  2010   \n",
       "5028                  716                       Zimbabwe  2015   \n",
       "5029                  716                       Zimbabwe  2016   \n",
       "5030                  716                       Zimbabwe  2017   \n",
       "\n",
       "                                                 Series     Value  \\\n",
       "0     Net official development assistance received: ...  15188.71   \n",
       "1     Net official development assistance received: ...  26347.81   \n",
       "2     Net official development assistance received: ...  48267.84   \n",
       "3     Net official development assistance received: ...  82922.81   \n",
       "4     Net official development assistance received: ...  94440.61   \n",
       "...                                                 ...       ...   \n",
       "5026  Net official development assistance received: ...      6.80   \n",
       "5027  Net official development assistance received: ...      8.18   \n",
       "5028  Net official development assistance received: ...      5.50   \n",
       "5029  Net official development assistance received: ...      4.41   \n",
       "5030  Net official development assistance received: ...      4.60   \n",
       "\n",
       "                                              Footnotes  \\\n",
       "0     Including regional aid disbursements in additi...   \n",
       "1     Including regional aid disbursements in additi...   \n",
       "2     Including regional aid disbursements in additi...   \n",
       "3     Including regional aid disbursements in additi...   \n",
       "4     Including regional aid disbursements in additi...   \n",
       "...                                                 ...   \n",
       "5026                                                NaN   \n",
       "5027                                                NaN   \n",
       "5028                                                NaN   \n",
       "5029                                                NaN   \n",
       "5030                                                NaN   \n",
       "\n",
       "                                                 Source  \n",
       "0     Organisation for Economic Co-operation and Dev...  \n",
       "1     Organisation for Economic Co-operation and Dev...  \n",
       "2     Organisation for Economic Co-operation and Dev...  \n",
       "3     Organisation for Economic Co-operation and Dev...  \n",
       "4     Organisation for Economic Co-operation and Dev...  \n",
       "...                                                 ...  \n",
       "5026  Organisation for Economic Co-operation and Dev...  \n",
       "5027  Organisation for Economic Co-operation and Dev...  \n",
       "5028  Organisation for Economic Co-operation and Dev...  \n",
       "5029  Organisation for Economic Co-operation and Dev...  \n",
       "5030  Organisation for Economic Co-operation and Dev...  \n",
       "\n",
       "[5031 rows x 7 columns]"
      ]
     },
     "execution_count": 169,
     "metadata": {},
     "output_type": "execute_result"
    }
   ],
   "source": [
    "recipients_aid_df = pd.read_csv('recipients.csv',engine='python',header = 1)\n",
    "recipients_aid_df"
   ]
  },
  {
   "cell_type": "code",
   "execution_count": 4,
   "metadata": {},
   "outputs": [],
   "source": [
    "# Dictionary containing regions and the countries in those regions (only includes countries in this data set)\n",
    "region_dict = {'Southern Africa':['Angola','Botswana','Burundi','Cabo Verde','Cameroon','Central African Republic','Comoros',\n",
    "                         'Congo','Dem. Rep. of the Congo','Equatorial Guinea','Eswatini','Ethiopia','Kenya', 'Kiribati',\n",
    "                         'Lesotho','Liberia','Madagascar', 'Malawi','Mozambique','Namibia','Rwanda','Saint Helena',\n",
    "                         'Sao Tome and Principe','Seychelles', 'Solomon Islands','South Africa','Uganda',\n",
    "                         'United Rep. of Tanzania','Zambia', 'Zimbabwe'],\n",
    "               'Northern Africa':['Algeria','Djibouti','Egypt','Eritrea','Libya','Morocco','Somalia','Sudan','Tunisia',],\n",
    "               'Sub-Saharan Africa':['Benin','Burkina Faso','Chad','C�te d�Ivoire','Gabon', 'Gambia','Ghana','Guinea',\n",
    "                                     'Guinea-Bissau','Mali','Mauritania', 'Mauritius','Niger', 'Nigeria','Senegal',\n",
    "                                     'Sierra Leone','South Sudan','Togo'],\n",
    "               'Americas':['Anguilla','Antigua and Barbuda','Aruba','Bahamas','Barbados','Belize','Bermuda',\n",
    "                           'British Virgin Islands','Cayman Islands','Costa Rica','Cuba','Dominica','Dominican Republic',\n",
    "                           'El Salvador','Grenada','Guatemala','Haiti', 'Honduras','Jamaica','Nicaragua','Panama',\n",
    "                           'Saint Kitts and Nevis','Saint Lucia','Saint Vincent & Grenadines','Trinidad and Tobago',\n",
    "                           'Turks and Caicos Islands'], \n",
    "               'North America':['Mexico'], \n",
    "               'South America':['Argentina','Brazil','Bolivia (Plurin. State of)','Botswana','Chile','Colombia',\n",
    "                                'Ecuador','Guyana','Paraguay', 'Peru','Suriname','Uruguay','Venezuela (Boliv. Rep. of)'],\n",
    "               'Asia':['China','China, Hong Kong SAR','China, Macao SAR',\"Dem. People's Rep. Korea\",'Mongolia',\n",
    "                       'Republic of Korea'], \n",
    "               'Eastern and South-Eastern Asia':['Brunei Darussalam','Cambodia','Indonesia',\"Lao People's Dem. Rep.\",\n",
    "                                                 'Malaysia','Myanmar','Philippines','Sierra Leone','Thailand',\n",
    "                                                 'Viet Nam'], \n",
    "               'South-central Asia':['Afghanistan','Azerbaijan','Bangladesh','Bhutan','India','Kazakhstan','Kyrgyzstan',\n",
    "                                     'Maldives','Mayotte','Nepal','Pakistan','Sri Lanka','Tajikistan','Turkmenistan',\n",
    "                                     'Uzbekistan'],\n",
    "               'Western Asia':['Bahrain','Georgia','Iran (Islamic Republic of)','Iraq', 'Israel', 'Jordan','Kuwait',\n",
    "                               'Lebanon','Oman','Qatar','Saudi Arabia','State of Palestine','Syrian Arab Republic',\n",
    "                               'Turkey','United Arab Emirates','Yemen'], \n",
    "               'Europe':['Albania','Armenia','Belarus','Bosnia and Herzegovina','Croatia','Cyprus','Gibraltar','Kosovo',\n",
    "                         'Malta','Montenegro','Netherlands Antilles [former]','North Macedonia','Republic of Moldova','Serbia','Slovenia','Ukraine'], \n",
    "               'Oceania':['Micronesia','Cook Islands','Fiji','French Polynesia','Marshall Islands',\n",
    "                          'Micronesia (Fed. States of)','Montserrat','Nauru','New Caledonia','Niue',\n",
    "                          'Northern Mariana Islands','Palau','Papua New Guinea','Samoa','Timor-Leste','Tokelau', \n",
    "                          'Tonga','Tuvalu','Vanuatu','Wallis and Futuna Islands']}\n",
    "\n",
    "\n"
   ]
  },
  {
   "cell_type": "code",
   "execution_count": 5,
   "metadata": {},
   "outputs": [],
   "source": [
    "def add_region (country,region_dict = region_dict):\n",
    "    '''Adds a region to country based on a dictionary with the regions as keys and countries in those regions \n",
    "    as a value'''\n",
    "    for k,v in region_dict.items():\n",
    "        if country in v:\n",
    "            return k\n",
    "    return None\n"
   ]
  },
  {
   "cell_type": "code",
   "execution_count": 6,
   "metadata": {},
   "outputs": [],
   "source": [
    "def series_to_col (df):\n",
    "    '''This fucntion takes a dataframe and returns a new data frame with the series and values columns combined such\n",
    "    that each type of series is a unique column with the coresponding value as its values.'''\n",
    "    df_r = df.copy()\n",
    "    df_r = df_r.drop(['Series','Value'], axis = 1)\n",
    "    df_r.drop_duplicates(subset = ['Country','Year'], keep = 'first', inplace = True)\n",
    "\n",
    "    df_m = df.copy()\n",
    "    df_m = df_m.pivot_table(values='Value', index= [df_m.Year,df_m.Country], columns='Series', aggfunc='first')\n",
    "    df_m.reset_index(inplace = True)\n",
    "    \n",
    "    result = pd.merge(df_m, df_r, on=['Country','Year'])\n",
    "    result = result.fillna(0)\n",
    "    \n",
    "    return result\n"
   ]
  },
  {
   "cell_type": "code",
   "execution_count": 7,
   "metadata": {},
   "outputs": [],
   "source": [
    "def preprocess_recipients (df,regions_dict,code_dict_path ='UN_Country_Codes.csv' ):\n",
    "    '''Performs the needed preprocessing steps on the above recipients dataframe'''\n",
    "    #drop unecesary columns\n",
    "    df = df.drop(['Source','Footnotes'], axis=1)\n",
    "\n",
    "    #Rename misnamed columns\n",
    "    df = df.rename(columns={'Unnamed: 1': \"Country\", \"Region/Country/Area\": \"Region_Code\"})\n",
    "    df.head(30)\n",
    "\n",
    "    #Extract measurement type from Series\n",
    "    df['Type'] = df['Series'].apply(lambda x: re.findall('\\((.*?)\\)', x)[0])\n",
    "\n",
    "    #Extract Meaningfull information from series (method of distribution or type of total)\n",
    "    df['Series'] = df['Series'].apply(lambda x: re.findall('\\:(.*?)\\(', x)[0])\n",
    "    df['Series'] = df['Series'].str.strip()\n",
    "    df.loc[df['Type'] == 'as % GNI', 'Series'] = 'Total(%_GNI)'\n",
    "    \n",
    "    # Get rid of global totals and unspecified areas\n",
    "    df = df[df.Country != 'Total, all countries or areas']\n",
    "    df = df[ ~ df.Country.str.contains('Areas not specified')]\n",
    "    \n",
    "    # Add a region to the country\n",
    "    df['Region'] = df.Country.apply(lambda c: add_region(c))\n",
    "    df = df.dropna(subset = ['Region'])\n",
    "    \n",
    "    #Read in country codes and add correct country names to growth_ranknings\n",
    "    country_codes = pd.read_csv(code_dict_path) \n",
    "    code_dict = dict(zip(country_codes.Numeric, country_codes.Country))\n",
    "    df['Country'] = df['Region_Code'].map(code_dict)\n",
    "    \n",
    "    # Final clean\n",
    "    df = df.drop(['Type'], axis =1)\n",
    "    df = df.dropna()\n",
    "    df.reset_index(inplace = True, drop = True)\n",
    "    \n",
    "    df = series_to_col(df)\n",
    "    \n",
    "    return df\n"
   ]
  },
  {
   "cell_type": "code",
   "execution_count": 8,
   "metadata": {},
   "outputs": [
    {
     "data": {
      "text/html": [
       "<div>\n",
       "<style scoped>\n",
       "    .dataframe tbody tr th:only-of-type {\n",
       "        vertical-align: middle;\n",
       "    }\n",
       "\n",
       "    .dataframe tbody tr th {\n",
       "        vertical-align: top;\n",
       "    }\n",
       "\n",
       "    .dataframe thead th {\n",
       "        text-align: right;\n",
       "    }\n",
       "</style>\n",
       "<table border=\"1\" class=\"dataframe\">\n",
       "  <thead>\n",
       "    <tr style=\"text-align: right;\">\n",
       "      <th></th>\n",
       "      <th>Year</th>\n",
       "      <th>Country</th>\n",
       "      <th>Bilateral</th>\n",
       "      <th>Multilateral</th>\n",
       "      <th>Total</th>\n",
       "      <th>Total(%_GNI)</th>\n",
       "      <th>Region_Code</th>\n",
       "      <th>Region</th>\n",
       "    </tr>\n",
       "  </thead>\n",
       "  <tbody>\n",
       "    <tr>\n",
       "      <th>0</th>\n",
       "      <td>1975</td>\n",
       "      <td>Afghanistan</td>\n",
       "      <td>38.39</td>\n",
       "      <td>28.59</td>\n",
       "      <td>66.98</td>\n",
       "      <td>2.77</td>\n",
       "      <td>4</td>\n",
       "      <td>South-central Asia</td>\n",
       "    </tr>\n",
       "    <tr>\n",
       "      <th>1</th>\n",
       "      <td>1975</td>\n",
       "      <td>Algeria</td>\n",
       "      <td>212.70</td>\n",
       "      <td>22.57</td>\n",
       "      <td>235.27</td>\n",
       "      <td>1.53</td>\n",
       "      <td>12</td>\n",
       "      <td>Northern Africa</td>\n",
       "    </tr>\n",
       "    <tr>\n",
       "      <th>2</th>\n",
       "      <td>1975</td>\n",
       "      <td>Angola</td>\n",
       "      <td>4.15</td>\n",
       "      <td>0.61</td>\n",
       "      <td>4.76</td>\n",
       "      <td>0.00</td>\n",
       "      <td>24</td>\n",
       "      <td>Southern Africa</td>\n",
       "    </tr>\n",
       "    <tr>\n",
       "      <th>3</th>\n",
       "      <td>1975</td>\n",
       "      <td>Anguilla</td>\n",
       "      <td>1.66</td>\n",
       "      <td>0.01</td>\n",
       "      <td>1.67</td>\n",
       "      <td>0.00</td>\n",
       "      <td>660</td>\n",
       "      <td>Americas</td>\n",
       "    </tr>\n",
       "    <tr>\n",
       "      <th>4</th>\n",
       "      <td>1975</td>\n",
       "      <td>Antigua and Barbuda</td>\n",
       "      <td>1.54</td>\n",
       "      <td>0.52</td>\n",
       "      <td>2.06</td>\n",
       "      <td>0.00</td>\n",
       "      <td>28</td>\n",
       "      <td>Americas</td>\n",
       "    </tr>\n",
       "    <tr>\n",
       "      <th>...</th>\n",
       "      <td>...</td>\n",
       "      <td>...</td>\n",
       "      <td>...</td>\n",
       "      <td>...</td>\n",
       "      <td>...</td>\n",
       "      <td>...</td>\n",
       "      <td>...</td>\n",
       "      <td>...</td>\n",
       "    </tr>\n",
       "    <tr>\n",
       "      <th>1198</th>\n",
       "      <td>2017</td>\n",
       "      <td>Viet Nam</td>\n",
       "      <td>1738.35</td>\n",
       "      <td>653.83</td>\n",
       "      <td>2392.18</td>\n",
       "      <td>1.12</td>\n",
       "      <td>704</td>\n",
       "      <td>Eastern and South-Eastern Asia</td>\n",
       "    </tr>\n",
       "    <tr>\n",
       "      <th>1199</th>\n",
       "      <td>2017</td>\n",
       "      <td>Wallis and Futuna</td>\n",
       "      <td>88.88</td>\n",
       "      <td>0.64</td>\n",
       "      <td>89.52</td>\n",
       "      <td>0.00</td>\n",
       "      <td>876</td>\n",
       "      <td>Oceania</td>\n",
       "    </tr>\n",
       "    <tr>\n",
       "      <th>1200</th>\n",
       "      <td>2017</td>\n",
       "      <td>Yemen</td>\n",
       "      <td>2698.47</td>\n",
       "      <td>535.54</td>\n",
       "      <td>3234.01</td>\n",
       "      <td>0.00</td>\n",
       "      <td>887</td>\n",
       "      <td>Western Asia</td>\n",
       "    </tr>\n",
       "    <tr>\n",
       "      <th>1201</th>\n",
       "      <td>2017</td>\n",
       "      <td>Zambia</td>\n",
       "      <td>766.66</td>\n",
       "      <td>269.55</td>\n",
       "      <td>1036.21</td>\n",
       "      <td>4.14</td>\n",
       "      <td>894</td>\n",
       "      <td>Southern Africa</td>\n",
       "    </tr>\n",
       "    <tr>\n",
       "      <th>1202</th>\n",
       "      <td>2017</td>\n",
       "      <td>Zimbabwe</td>\n",
       "      <td>519.16</td>\n",
       "      <td>206.67</td>\n",
       "      <td>725.83</td>\n",
       "      <td>4.60</td>\n",
       "      <td>716</td>\n",
       "      <td>Southern Africa</td>\n",
       "    </tr>\n",
       "  </tbody>\n",
       "</table>\n",
       "<p>1203 rows × 8 columns</p>\n",
       "</div>"
      ],
      "text/plain": [
       "      Year              Country  Bilateral  Multilateral    Total  \\\n",
       "0     1975          Afghanistan      38.39         28.59    66.98   \n",
       "1     1975              Algeria     212.70         22.57   235.27   \n",
       "2     1975               Angola       4.15          0.61     4.76   \n",
       "3     1975             Anguilla       1.66          0.01     1.67   \n",
       "4     1975  Antigua and Barbuda       1.54          0.52     2.06   \n",
       "...    ...                  ...        ...           ...      ...   \n",
       "1198  2017             Viet Nam    1738.35        653.83  2392.18   \n",
       "1199  2017    Wallis and Futuna      88.88          0.64    89.52   \n",
       "1200  2017                Yemen    2698.47        535.54  3234.01   \n",
       "1201  2017               Zambia     766.66        269.55  1036.21   \n",
       "1202  2017             Zimbabwe     519.16        206.67   725.83   \n",
       "\n",
       "      Total(%_GNI)  Region_Code                          Region  \n",
       "0             2.77            4              South-central Asia  \n",
       "1             1.53           12                 Northern Africa  \n",
       "2             0.00           24                 Southern Africa  \n",
       "3             0.00          660                        Americas  \n",
       "4             0.00           28                        Americas  \n",
       "...            ...          ...                             ...  \n",
       "1198          1.12          704  Eastern and South-Eastern Asia  \n",
       "1199          0.00          876                         Oceania  \n",
       "1200          0.00          887                    Western Asia  \n",
       "1201          4.14          894                 Southern Africa  \n",
       "1202          4.60          716                 Southern Africa  \n",
       "\n",
       "[1203 rows x 8 columns]"
      ]
     },
     "execution_count": 8,
     "metadata": {},
     "output_type": "execute_result"
    }
   ],
   "source": [
    "df_rec_clean = preprocess_recipients(recipients_aid_df,region_dict)\n",
    "df_rec_clean"
   ]
  },
  {
   "cell_type": "code",
   "execution_count": 167,
   "metadata": {},
   "outputs": [
    {
     "data": {
      "text/plain": [
       "12"
      ]
     },
     "execution_count": 167,
     "metadata": {},
     "output_type": "execute_result"
    }
   ],
   "source": [
    "len(df_rec_clean.Region.unique())"
   ]
  },
  {
   "cell_type": "code",
   "execution_count": 9,
   "metadata": {},
   "outputs": [
    {
     "data": {
      "text/plain": [
       "Year            0\n",
       "Country         0\n",
       "Bilateral       0\n",
       "Multilateral    0\n",
       "Total           0\n",
       "Total(%_GNI)    0\n",
       "Region_Code     0\n",
       "Region          0\n",
       "dtype: int64"
      ]
     },
     "execution_count": 9,
     "metadata": {},
     "output_type": "execute_result"
    }
   ],
   "source": [
    "df_rec_clean.isna().sum()"
   ]
  },
  {
   "cell_type": "markdown",
   "metadata": {},
   "source": [
    "# 2) Growth Data"
   ]
  },
  {
   "cell_type": "code",
   "execution_count": 184,
   "metadata": {},
   "outputs": [
    {
     "data": {
      "text/html": [
       "<div>\n",
       "<style scoped>\n",
       "    .dataframe tbody tr th:only-of-type {\n",
       "        vertical-align: middle;\n",
       "    }\n",
       "\n",
       "    .dataframe tbody tr th {\n",
       "        vertical-align: top;\n",
       "    }\n",
       "\n",
       "    .dataframe thead th {\n",
       "        text-align: right;\n",
       "    }\n",
       "</style>\n",
       "<table border=\"1\" class=\"dataframe\">\n",
       "  <thead>\n",
       "    <tr style=\"text-align: right;\">\n",
       "      <th></th>\n",
       "      <th>Unnamed: 0</th>\n",
       "      <th>location_id</th>\n",
       "      <th>year</th>\n",
       "      <th>sitc_eci</th>\n",
       "      <th>hs_eci</th>\n",
       "      <th>growth_proj</th>\n",
       "      <th>sitc_eci_rank</th>\n",
       "      <th>hs_eci_rank</th>\n",
       "      <th>code</th>\n",
       "    </tr>\n",
       "  </thead>\n",
       "  <tbody>\n",
       "    <tr>\n",
       "      <th>0</th>\n",
       "      <td>1</td>\n",
       "      <td>2</td>\n",
       "      <td>1995</td>\n",
       "      <td>-2.001223</td>\n",
       "      <td>-2.148367</td>\n",
       "      <td>NaN</td>\n",
       "      <td>127.0</td>\n",
       "      <td>217.0</td>\n",
       "      <td>AGO</td>\n",
       "    </tr>\n",
       "    <tr>\n",
       "      <th>1</th>\n",
       "      <td>2</td>\n",
       "      <td>2</td>\n",
       "      <td>1996</td>\n",
       "      <td>-2.120867</td>\n",
       "      <td>-2.144461</td>\n",
       "      <td>NaN</td>\n",
       "      <td>129.0</td>\n",
       "      <td>215.0</td>\n",
       "      <td>AGO</td>\n",
       "    </tr>\n",
       "    <tr>\n",
       "      <th>2</th>\n",
       "      <td>3</td>\n",
       "      <td>2</td>\n",
       "      <td>1997</td>\n",
       "      <td>-1.800330</td>\n",
       "      <td>-1.424870</td>\n",
       "      <td>NaN</td>\n",
       "      <td>127.0</td>\n",
       "      <td>204.0</td>\n",
       "      <td>AGO</td>\n",
       "    </tr>\n",
       "    <tr>\n",
       "      <th>3</th>\n",
       "      <td>4</td>\n",
       "      <td>2</td>\n",
       "      <td>1998</td>\n",
       "      <td>-1.756738</td>\n",
       "      <td>-1.650229</td>\n",
       "      <td>NaN</td>\n",
       "      <td>127.0</td>\n",
       "      <td>206.0</td>\n",
       "      <td>AGO</td>\n",
       "    </tr>\n",
       "    <tr>\n",
       "      <th>4</th>\n",
       "      <td>5</td>\n",
       "      <td>2</td>\n",
       "      <td>1999</td>\n",
       "      <td>-1.703370</td>\n",
       "      <td>-1.384564</td>\n",
       "      <td>NaN</td>\n",
       "      <td>124.0</td>\n",
       "      <td>202.0</td>\n",
       "      <td>AGO</td>\n",
       "    </tr>\n",
       "    <tr>\n",
       "      <th>...</th>\n",
       "      <td>...</td>\n",
       "      <td>...</td>\n",
       "      <td>...</td>\n",
       "      <td>...</td>\n",
       "      <td>...</td>\n",
       "      <td>...</td>\n",
       "      <td>...</td>\n",
       "      <td>...</td>\n",
       "      <td>...</td>\n",
       "    </tr>\n",
       "    <tr>\n",
       "      <th>3054</th>\n",
       "      <td>3055</td>\n",
       "      <td>248</td>\n",
       "      <td>2013</td>\n",
       "      <td>-0.672232</td>\n",
       "      <td>-0.781233</td>\n",
       "      <td>5.08</td>\n",
       "      <td>97.0</td>\n",
       "      <td>184.0</td>\n",
       "      <td>ZWE</td>\n",
       "    </tr>\n",
       "    <tr>\n",
       "      <th>3055</th>\n",
       "      <td>3056</td>\n",
       "      <td>248</td>\n",
       "      <td>2014</td>\n",
       "      <td>-0.696330</td>\n",
       "      <td>-0.807621</td>\n",
       "      <td>4.93</td>\n",
       "      <td>100.0</td>\n",
       "      <td>187.0</td>\n",
       "      <td>ZWE</td>\n",
       "    </tr>\n",
       "    <tr>\n",
       "      <th>3056</th>\n",
       "      <td>3057</td>\n",
       "      <td>248</td>\n",
       "      <td>2015</td>\n",
       "      <td>-0.874097</td>\n",
       "      <td>-0.930933</td>\n",
       "      <td>4.73</td>\n",
       "      <td>108.0</td>\n",
       "      <td>194.0</td>\n",
       "      <td>ZWE</td>\n",
       "    </tr>\n",
       "    <tr>\n",
       "      <th>3057</th>\n",
       "      <td>3058</td>\n",
       "      <td>248</td>\n",
       "      <td>2016</td>\n",
       "      <td>-0.971397</td>\n",
       "      <td>-1.149360</td>\n",
       "      <td>4.71</td>\n",
       "      <td>109.0</td>\n",
       "      <td>208.0</td>\n",
       "      <td>ZWE</td>\n",
       "    </tr>\n",
       "    <tr>\n",
       "      <th>3058</th>\n",
       "      <td>3059</td>\n",
       "      <td>248</td>\n",
       "      <td>2017</td>\n",
       "      <td>-0.872061</td>\n",
       "      <td>-1.073362</td>\n",
       "      <td>4.15</td>\n",
       "      <td>106.0</td>\n",
       "      <td>200.0</td>\n",
       "      <td>ZWE</td>\n",
       "    </tr>\n",
       "  </tbody>\n",
       "</table>\n",
       "<p>3059 rows × 9 columns</p>\n",
       "</div>"
      ],
      "text/plain": [
       "      Unnamed: 0  location_id  year  sitc_eci    hs_eci  growth_proj  \\\n",
       "0              1            2  1995 -2.001223 -2.148367          NaN   \n",
       "1              2            2  1996 -2.120867 -2.144461          NaN   \n",
       "2              3            2  1997 -1.800330 -1.424870          NaN   \n",
       "3              4            2  1998 -1.756738 -1.650229          NaN   \n",
       "4              5            2  1999 -1.703370 -1.384564          NaN   \n",
       "...          ...          ...   ...       ...       ...          ...   \n",
       "3054        3055          248  2013 -0.672232 -0.781233         5.08   \n",
       "3055        3056          248  2014 -0.696330 -0.807621         4.93   \n",
       "3056        3057          248  2015 -0.874097 -0.930933         4.73   \n",
       "3057        3058          248  2016 -0.971397 -1.149360         4.71   \n",
       "3058        3059          248  2017 -0.872061 -1.073362         4.15   \n",
       "\n",
       "      sitc_eci_rank  hs_eci_rank code  \n",
       "0             127.0        217.0  AGO  \n",
       "1             129.0        215.0  AGO  \n",
       "2             127.0        204.0  AGO  \n",
       "3             127.0        206.0  AGO  \n",
       "4             124.0        202.0  AGO  \n",
       "...             ...          ...  ...  \n",
       "3054           97.0        184.0  ZWE  \n",
       "3055          100.0        187.0  ZWE  \n",
       "3056          108.0        194.0  ZWE  \n",
       "3057          109.0        208.0  ZWE  \n",
       "3058          106.0        200.0  ZWE  \n",
       "\n",
       "[3059 rows x 9 columns]"
      ]
     },
     "execution_count": 184,
     "metadata": {},
     "output_type": "execute_result"
    }
   ],
   "source": [
    "# Read in the growth data\n",
    "growth_rankings_df = pd.read_csv('rankings.csv',engine='python')\n",
    "growth_rankings_df"
   ]
  },
  {
   "cell_type": "code",
   "execution_count": 190,
   "metadata": {},
   "outputs": [],
   "source": [
    "def clean_growth (df,code_dict_path ='UN_Country_Codes.csv'):\n",
    "    '''This function performs the needed cleaning and preprocessing on the economic complexity data set.'''\n",
    "    \n",
    "    # Drop Uneeded columns\n",
    "    df = df.drop(['hs_eci', 'hs_eci_rank','Unnamed: 0','growth_proj','sitc_eci_rank'], axis=1)\n",
    "    \n",
    "    # Convert country names to the correct spelling and syntax (as determined by the un ocuntry codes csv)\n",
    "    country_codes = pd.read_csv(code_dict_path)\n",
    "    code_dict = dict(zip(country_codes.Code, country_codes.Country))\n",
    "    df['country'] = df['code'].map(code_dict)\n",
    "    \n",
    "    df = df.dropna()\n",
    "    \n",
    "    return df"
   ]
  },
  {
   "cell_type": "code",
   "execution_count": 191,
   "metadata": {},
   "outputs": [],
   "source": [
    "clean_growth_df = clean_growth(growth_rankings_df)"
   ]
  },
  {
   "cell_type": "code",
   "execution_count": 192,
   "metadata": {},
   "outputs": [
    {
     "data": {
      "text/html": [
       "<div>\n",
       "<style scoped>\n",
       "    .dataframe tbody tr th:only-of-type {\n",
       "        vertical-align: middle;\n",
       "    }\n",
       "\n",
       "    .dataframe tbody tr th {\n",
       "        vertical-align: top;\n",
       "    }\n",
       "\n",
       "    .dataframe thead th {\n",
       "        text-align: right;\n",
       "    }\n",
       "</style>\n",
       "<table border=\"1\" class=\"dataframe\">\n",
       "  <thead>\n",
       "    <tr style=\"text-align: right;\">\n",
       "      <th></th>\n",
       "      <th>location_id</th>\n",
       "      <th>year</th>\n",
       "      <th>sitc_eci</th>\n",
       "      <th>code</th>\n",
       "      <th>country</th>\n",
       "    </tr>\n",
       "  </thead>\n",
       "  <tbody>\n",
       "    <tr>\n",
       "      <th>0</th>\n",
       "      <td>2</td>\n",
       "      <td>1995</td>\n",
       "      <td>-2.001223</td>\n",
       "      <td>AGO</td>\n",
       "      <td>Angola</td>\n",
       "    </tr>\n",
       "    <tr>\n",
       "      <th>1</th>\n",
       "      <td>2</td>\n",
       "      <td>1996</td>\n",
       "      <td>-2.120867</td>\n",
       "      <td>AGO</td>\n",
       "      <td>Angola</td>\n",
       "    </tr>\n",
       "    <tr>\n",
       "      <th>2</th>\n",
       "      <td>2</td>\n",
       "      <td>1997</td>\n",
       "      <td>-1.800330</td>\n",
       "      <td>AGO</td>\n",
       "      <td>Angola</td>\n",
       "    </tr>\n",
       "    <tr>\n",
       "      <th>3</th>\n",
       "      <td>2</td>\n",
       "      <td>1998</td>\n",
       "      <td>-1.756738</td>\n",
       "      <td>AGO</td>\n",
       "      <td>Angola</td>\n",
       "    </tr>\n",
       "    <tr>\n",
       "      <th>4</th>\n",
       "      <td>2</td>\n",
       "      <td>1999</td>\n",
       "      <td>-1.703370</td>\n",
       "      <td>AGO</td>\n",
       "      <td>Angola</td>\n",
       "    </tr>\n",
       "    <tr>\n",
       "      <th>...</th>\n",
       "      <td>...</td>\n",
       "      <td>...</td>\n",
       "      <td>...</td>\n",
       "      <td>...</td>\n",
       "      <td>...</td>\n",
       "    </tr>\n",
       "    <tr>\n",
       "      <th>3054</th>\n",
       "      <td>248</td>\n",
       "      <td>2013</td>\n",
       "      <td>-0.672232</td>\n",
       "      <td>ZWE</td>\n",
       "      <td>Zimbabwe</td>\n",
       "    </tr>\n",
       "    <tr>\n",
       "      <th>3055</th>\n",
       "      <td>248</td>\n",
       "      <td>2014</td>\n",
       "      <td>-0.696330</td>\n",
       "      <td>ZWE</td>\n",
       "      <td>Zimbabwe</td>\n",
       "    </tr>\n",
       "    <tr>\n",
       "      <th>3056</th>\n",
       "      <td>248</td>\n",
       "      <td>2015</td>\n",
       "      <td>-0.874097</td>\n",
       "      <td>ZWE</td>\n",
       "      <td>Zimbabwe</td>\n",
       "    </tr>\n",
       "    <tr>\n",
       "      <th>3057</th>\n",
       "      <td>248</td>\n",
       "      <td>2016</td>\n",
       "      <td>-0.971397</td>\n",
       "      <td>ZWE</td>\n",
       "      <td>Zimbabwe</td>\n",
       "    </tr>\n",
       "    <tr>\n",
       "      <th>3058</th>\n",
       "      <td>248</td>\n",
       "      <td>2017</td>\n",
       "      <td>-0.872061</td>\n",
       "      <td>ZWE</td>\n",
       "      <td>Zimbabwe</td>\n",
       "    </tr>\n",
       "  </tbody>\n",
       "</table>\n",
       "<p>3033 rows × 5 columns</p>\n",
       "</div>"
      ],
      "text/plain": [
       "      location_id  year  sitc_eci code   country\n",
       "0               2  1995 -2.001223  AGO    Angola\n",
       "1               2  1996 -2.120867  AGO    Angola\n",
       "2               2  1997 -1.800330  AGO    Angola\n",
       "3               2  1998 -1.756738  AGO    Angola\n",
       "4               2  1999 -1.703370  AGO    Angola\n",
       "...           ...   ...       ...  ...       ...\n",
       "3054          248  2013 -0.672232  ZWE  Zimbabwe\n",
       "3055          248  2014 -0.696330  ZWE  Zimbabwe\n",
       "3056          248  2015 -0.874097  ZWE  Zimbabwe\n",
       "3057          248  2016 -0.971397  ZWE  Zimbabwe\n",
       "3058          248  2017 -0.872061  ZWE  Zimbabwe\n",
       "\n",
       "[3033 rows x 5 columns]"
      ]
     },
     "execution_count": 192,
     "metadata": {},
     "output_type": "execute_result"
    }
   ],
   "source": [
    "clean_growth_df"
   ]
  },
  {
   "cell_type": "code",
   "execution_count": 193,
   "metadata": {},
   "outputs": [
    {
     "data": {
      "text/plain": [
       "2.8253192901611297"
      ]
     },
     "execution_count": 193,
     "metadata": {},
     "output_type": "execute_result"
    }
   ],
   "source": [
    "clean_growth_df.sitc_eci.max()"
   ]
  },
  {
   "cell_type": "code",
   "execution_count": 194,
   "metadata": {},
   "outputs": [
    {
     "data": {
      "text/plain": [
       "location_id    0\n",
       "year           0\n",
       "sitc_eci       0\n",
       "code           0\n",
       "country        0\n",
       "dtype: int64"
      ]
     },
     "execution_count": 194,
     "metadata": {},
     "output_type": "execute_result"
    }
   ],
   "source": [
    "clean_growth_df.isna().sum()"
   ]
  },
  {
   "cell_type": "code",
   "execution_count": 197,
   "metadata": {},
   "outputs": [
    {
     "data": {
      "text/plain": [
       "133"
      ]
     },
     "execution_count": 197,
     "metadata": {},
     "output_type": "execute_result"
    }
   ],
   "source": [
    "len(clean_growth_df.country.unique())"
   ]
  },
  {
   "cell_type": "markdown",
   "metadata": {},
   "source": [
    "# 3) Merge the Data Sets"
   ]
  },
  {
   "cell_type": "code",
   "execution_count": 84,
   "metadata": {},
   "outputs": [
    {
     "name": "stdout",
     "output_type": "stream",
     "text": [
      "101\n"
     ]
    }
   ],
   "source": [
    "growth_countries = set(clean_growth_df['country'].unique())\n",
    "aid_countries = set(df_rec_clean['Country'].unique())\n",
    "\n",
    "allCountries = list(growth_countries.intersection(aid_countries))\n",
    "print(len(allCountries))"
   ]
  },
  {
   "cell_type": "code",
   "execution_count": 85,
   "metadata": {},
   "outputs": [],
   "source": [
    "#limit each dataframe down to the intersection of countries (only countries included in both data sets)\n",
    "growth_rankings_df_Subset = clean_growth_df.copy()\n",
    "recipients_aid_df_Subset = df_rec_clean.copy()\n",
    "\n",
    "growth_rankings_df_Subset = growth_rankings_df_Subset[growth_rankings_df_Subset['country'].isin(allCountries)]\n",
    "recipients_aid_df_Subset = recipients_aid_df_Subset[recipients_aid_df_Subset['Country'].isin(allCountries)]\n"
   ]
  },
  {
   "cell_type": "code",
   "execution_count": 86,
   "metadata": {},
   "outputs": [],
   "source": [
    "#merge the two databases on country and year\n",
    "final_df = recipients_aid_df_Subset.merge(growth_rankings_df_Subset, how='inner', \n",
    "                                          left_on=[\"Country\", \"Year\"], right_on=[\"country\",\"year\"])\n",
    "\n",
    "#get rid of overlapping columns\n",
    "final_df = final_df.drop(['year','location_id','country'],axis = 1)\n",
    "\n",
    "# Select needed cols with outcome col last\n",
    "final_df = final_df[['Country','Region','Year', 'Bilateral', 'Multilateral', 'Total(%_GNI)', 'Total', 'sitc_eci']]\n",
    "\n"
   ]
  },
  {
   "cell_type": "code",
   "execution_count": 87,
   "metadata": {},
   "outputs": [
    {
     "data": {
      "text/html": [
       "<div>\n",
       "<style scoped>\n",
       "    .dataframe tbody tr th:only-of-type {\n",
       "        vertical-align: middle;\n",
       "    }\n",
       "\n",
       "    .dataframe tbody tr th {\n",
       "        vertical-align: top;\n",
       "    }\n",
       "\n",
       "    .dataframe thead th {\n",
       "        text-align: right;\n",
       "    }\n",
       "</style>\n",
       "<table border=\"1\" class=\"dataframe\">\n",
       "  <thead>\n",
       "    <tr style=\"text-align: right;\">\n",
       "      <th></th>\n",
       "      <th>Country</th>\n",
       "      <th>Region</th>\n",
       "      <th>Year</th>\n",
       "      <th>Bilateral</th>\n",
       "      <th>Multilateral</th>\n",
       "      <th>Total(%_GNI)</th>\n",
       "      <th>Total</th>\n",
       "      <th>sitc_eci</th>\n",
       "    </tr>\n",
       "  </thead>\n",
       "  <tbody>\n",
       "    <tr>\n",
       "      <th>0</th>\n",
       "      <td>Albania</td>\n",
       "      <td>Europe</td>\n",
       "      <td>1995</td>\n",
       "      <td>117.59</td>\n",
       "      <td>63.01</td>\n",
       "      <td>7.32</td>\n",
       "      <td>180.60</td>\n",
       "      <td>-0.560130</td>\n",
       "    </tr>\n",
       "    <tr>\n",
       "      <th>1</th>\n",
       "      <td>Algeria</td>\n",
       "      <td>Northern Africa</td>\n",
       "      <td>1995</td>\n",
       "      <td>271.70</td>\n",
       "      <td>24.04</td>\n",
       "      <td>0.75</td>\n",
       "      <td>295.74</td>\n",
       "      <td>-0.700374</td>\n",
       "    </tr>\n",
       "    <tr>\n",
       "      <th>2</th>\n",
       "      <td>Angola</td>\n",
       "      <td>Southern Africa</td>\n",
       "      <td>1995</td>\n",
       "      <td>303.65</td>\n",
       "      <td>112.77</td>\n",
       "      <td>8.73</td>\n",
       "      <td>416.42</td>\n",
       "      <td>-2.001223</td>\n",
       "    </tr>\n",
       "    <tr>\n",
       "      <th>3</th>\n",
       "      <td>Argentina</td>\n",
       "      <td>South America</td>\n",
       "      <td>1995</td>\n",
       "      <td>131.32</td>\n",
       "      <td>16.86</td>\n",
       "      <td>0.06</td>\n",
       "      <td>148.18</td>\n",
       "      <td>0.189551</td>\n",
       "    </tr>\n",
       "    <tr>\n",
       "      <th>4</th>\n",
       "      <td>Armenia</td>\n",
       "      <td>Europe</td>\n",
       "      <td>1995</td>\n",
       "      <td>0.00</td>\n",
       "      <td>106.81</td>\n",
       "      <td>14.85</td>\n",
       "      <td>217.71</td>\n",
       "      <td>0.057307</td>\n",
       "    </tr>\n",
       "    <tr>\n",
       "      <th>...</th>\n",
       "      <td>...</td>\n",
       "      <td>...</td>\n",
       "      <td>...</td>\n",
       "      <td>...</td>\n",
       "      <td>...</td>\n",
       "      <td>...</td>\n",
       "      <td>...</td>\n",
       "      <td>...</td>\n",
       "    </tr>\n",
       "    <tr>\n",
       "      <th>540</th>\n",
       "      <td>Venezuela (Bolivarian Republic of)</td>\n",
       "      <td>South America</td>\n",
       "      <td>2017</td>\n",
       "      <td>72.48</td>\n",
       "      <td>14.06</td>\n",
       "      <td>0.00</td>\n",
       "      <td>86.54</td>\n",
       "      <td>-1.225530</td>\n",
       "    </tr>\n",
       "    <tr>\n",
       "      <th>541</th>\n",
       "      <td>Viet Nam</td>\n",
       "      <td>Eastern and South-Eastern Asia</td>\n",
       "      <td>2017</td>\n",
       "      <td>1738.35</td>\n",
       "      <td>653.83</td>\n",
       "      <td>1.12</td>\n",
       "      <td>2392.18</td>\n",
       "      <td>0.093079</td>\n",
       "    </tr>\n",
       "    <tr>\n",
       "      <th>542</th>\n",
       "      <td>Yemen</td>\n",
       "      <td>Western Asia</td>\n",
       "      <td>2017</td>\n",
       "      <td>2698.47</td>\n",
       "      <td>535.54</td>\n",
       "      <td>0.00</td>\n",
       "      <td>3234.01</td>\n",
       "      <td>-1.188026</td>\n",
       "    </tr>\n",
       "    <tr>\n",
       "      <th>543</th>\n",
       "      <td>Zambia</td>\n",
       "      <td>Southern Africa</td>\n",
       "      <td>2017</td>\n",
       "      <td>766.66</td>\n",
       "      <td>269.55</td>\n",
       "      <td>4.14</td>\n",
       "      <td>1036.21</td>\n",
       "      <td>-1.073317</td>\n",
       "    </tr>\n",
       "    <tr>\n",
       "      <th>544</th>\n",
       "      <td>Zimbabwe</td>\n",
       "      <td>Southern Africa</td>\n",
       "      <td>2017</td>\n",
       "      <td>519.16</td>\n",
       "      <td>206.67</td>\n",
       "      <td>4.60</td>\n",
       "      <td>725.83</td>\n",
       "      <td>-0.872061</td>\n",
       "    </tr>\n",
       "  </tbody>\n",
       "</table>\n",
       "<p>545 rows × 8 columns</p>\n",
       "</div>"
      ],
      "text/plain": [
       "                                Country                          Region  Year  \\\n",
       "0                               Albania                          Europe  1995   \n",
       "1                               Algeria                 Northern Africa  1995   \n",
       "2                                Angola                 Southern Africa  1995   \n",
       "3                             Argentina                   South America  1995   \n",
       "4                               Armenia                          Europe  1995   \n",
       "..                                  ...                             ...   ...   \n",
       "540  Venezuela (Bolivarian Republic of)                   South America  2017   \n",
       "541                            Viet Nam  Eastern and South-Eastern Asia  2017   \n",
       "542                               Yemen                    Western Asia  2017   \n",
       "543                              Zambia                 Southern Africa  2017   \n",
       "544                            Zimbabwe                 Southern Africa  2017   \n",
       "\n",
       "     Bilateral  Multilateral  Total(%_GNI)    Total  sitc_eci  \n",
       "0       117.59         63.01          7.32   180.60 -0.560130  \n",
       "1       271.70         24.04          0.75   295.74 -0.700374  \n",
       "2       303.65        112.77          8.73   416.42 -2.001223  \n",
       "3       131.32         16.86          0.06   148.18  0.189551  \n",
       "4         0.00        106.81         14.85   217.71  0.057307  \n",
       "..         ...           ...           ...      ...       ...  \n",
       "540      72.48         14.06          0.00    86.54 -1.225530  \n",
       "541    1738.35        653.83          1.12  2392.18  0.093079  \n",
       "542    2698.47        535.54          0.00  3234.01 -1.188026  \n",
       "543     766.66        269.55          4.14  1036.21 -1.073317  \n",
       "544     519.16        206.67          4.60   725.83 -0.872061  \n",
       "\n",
       "[545 rows x 8 columns]"
      ]
     },
     "execution_count": 87,
     "metadata": {},
     "output_type": "execute_result"
    }
   ],
   "source": [
    "final_df"
   ]
  },
  {
   "cell_type": "markdown",
   "metadata": {},
   "source": [
    "# 4) Graph Data"
   ]
  },
  {
   "cell_type": "markdown",
   "metadata": {},
   "source": [
    "### Relevant graphs to explore the composition of the final data frame cleaned and created above"
   ]
  },
  {
   "cell_type": "code",
   "execution_count": 88,
   "metadata": {},
   "outputs": [
    {
     "data": {
      "image/png": "[encoded data removed]",
      "text/plain": [
       "<Figure size 432x288 with 1 Axes>"
      ]
     },
     "metadata": {
      "needs_background": "light"
     },
     "output_type": "display_data"
    }
   ],
   "source": [
    "plt.hist(final_df.sitc_eci)\n",
    "plt.title('Histogram of Sitc_Eci Levels')\n",
    "plt.xlabel('Sitc_Eci')\n",
    "plt.show()"
   ]
  },
  {
   "cell_type": "code",
   "execution_count": 89,
   "metadata": {},
   "outputs": [
    {
     "data": {
      "image/png": "[encoded data removed]",
      "text/plain": [
       "<Figure size 864x432 with 1 Axes>"
      ]
     },
     "metadata": {
      "needs_background": "light"
     },
     "output_type": "display_data"
    }
   ],
   "source": [
    "plt.figure(figsize = (12,6))\n",
    "plt.hist(final_df.Total)\n",
    "plt.xticks(rotation=45)\n",
    "plt.title('Histogram of Total Aid (Millions of USD)')\n",
    "plt.xlabel('Total Aid')\n",
    "plt.show()"
   ]
  },
  {
   "cell_type": "code",
   "execution_count": 90,
   "metadata": {},
   "outputs": [
    {
     "data": {
      "image/png": "[encoded data removed]",
      "text/plain": [
       "<Figure size 864x432 with 1 Axes>"
      ]
     },
     "metadata": {
      "needs_background": "light"
     },
     "output_type": "display_data"
    }
   ],
   "source": [
    "plt.figure(figsize = (12,6))\n",
    "plt.bar(final_df.Region, final_df.Total)\n",
    "plt.xticks(rotation=45)\n",
    "plt.show()"
   ]
  },
  {
   "cell_type": "code",
   "execution_count": 91,
   "metadata": {},
   "outputs": [
    {
     "data": {
      "image/png": "[encoded data removed]",
      "text/plain": [
       "<Figure size 864x432 with 1 Axes>"
      ]
     },
     "metadata": {
      "needs_background": "light"
     },
     "output_type": "display_data"
    }
   ],
   "source": [
    "plt.figure(figsize = (12,6))\n",
    "plt.scatter(final_df.Country[final_df.Total > 500], final_df.Total[final_df.Total > 500])\n",
    "plt.xticks(rotation=45)\n",
    "plt.show()"
   ]
  },
  {
   "cell_type": "markdown",
   "metadata": {},
   "source": [
    "# 5) Feature Preprocessing and Extraction"
   ]
  },
  {
   "cell_type": "markdown",
   "metadata": {},
   "source": [
    "### 5.1) Use min max scaler on continous variables and encode categorical variables"
   ]
  },
  {
   "cell_type": "code",
   "execution_count": 92,
   "metadata": {},
   "outputs": [],
   "source": [
    "from sklearn.preprocessing import MinMaxScaler"
   ]
  },
  {
   "cell_type": "code",
   "execution_count": 93,
   "metadata": {},
   "outputs": [],
   "source": [
    "scaler = MinMaxScaler()"
   ]
  },
  {
   "cell_type": "code",
   "execution_count": 94,
   "metadata": {},
   "outputs": [],
   "source": [
    "scaled_data = scaler.fit_transform(final_df.iloc[:,2:-1])"
   ]
  },
  {
   "cell_type": "code",
   "execution_count": 95,
   "metadata": {},
   "outputs": [],
   "source": [
    "scaled_data = pd.DataFrame(scaled_data, columns = final_df.columns[2:-1])"
   ]
  },
  {
   "cell_type": "code",
   "execution_count": 96,
   "metadata": {},
   "outputs": [],
   "source": [
    "reg_dummies = pd.get_dummies(final_df['Region'], prefix='Region')"
   ]
  },
  {
   "cell_type": "code",
   "execution_count": 97,
   "metadata": {},
   "outputs": [],
   "source": [
    "scaled_data = scaled_data.set_index(reg_dummies.index)"
   ]
  },
  {
   "cell_type": "code",
   "execution_count": 98,
   "metadata": {},
   "outputs": [],
   "source": [
    "result_new = reg_dummies.join([scaled_data, final_df.iloc[:,-1:]])\n"
   ]
  },
  {
   "cell_type": "code",
   "execution_count": 99,
   "metadata": {},
   "outputs": [
    {
     "data": {
      "text/html": [
       "<div>\n",
       "<style scoped>\n",
       "    .dataframe tbody tr th:only-of-type {\n",
       "        vertical-align: middle;\n",
       "    }\n",
       "\n",
       "    .dataframe tbody tr th {\n",
       "        vertical-align: top;\n",
       "    }\n",
       "\n",
       "    .dataframe thead th {\n",
       "        text-align: right;\n",
       "    }\n",
       "</style>\n",
       "<table border=\"1\" class=\"dataframe\">\n",
       "  <thead>\n",
       "    <tr style=\"text-align: right;\">\n",
       "      <th></th>\n",
       "      <th>Region_Americas</th>\n",
       "      <th>Region_Asia</th>\n",
       "      <th>Region_Eastern and South-Eastern Asia</th>\n",
       "      <th>Region_Europe</th>\n",
       "      <th>Region_North America</th>\n",
       "      <th>Region_Northern Africa</th>\n",
       "      <th>Region_Oceania</th>\n",
       "      <th>Region_South America</th>\n",
       "      <th>Region_South-central Asia</th>\n",
       "      <th>Region_Southern Africa</th>\n",
       "      <th>Region_Sub-Saharan Africa</th>\n",
       "      <th>Region_Western Asia</th>\n",
       "      <th>Year</th>\n",
       "      <th>Bilateral</th>\n",
       "      <th>Multilateral</th>\n",
       "      <th>Total(%_GNI)</th>\n",
       "      <th>Total</th>\n",
       "      <th>sitc_eci</th>\n",
       "    </tr>\n",
       "  </thead>\n",
       "  <tbody>\n",
       "    <tr>\n",
       "      <th>0</th>\n",
       "      <td>0</td>\n",
       "      <td>0</td>\n",
       "      <td>0</td>\n",
       "      <td>1</td>\n",
       "      <td>0</td>\n",
       "      <td>0</td>\n",
       "      <td>0</td>\n",
       "      <td>0</td>\n",
       "      <td>0</td>\n",
       "      <td>0</td>\n",
       "      <td>0</td>\n",
       "      <td>0</td>\n",
       "      <td>0.0</td>\n",
       "      <td>0.095590</td>\n",
       "      <td>0.024473</td>\n",
       "      <td>0.061076</td>\n",
       "      <td>0.164585</td>\n",
       "      <td>-0.560130</td>\n",
       "    </tr>\n",
       "    <tr>\n",
       "      <th>1</th>\n",
       "      <td>0</td>\n",
       "      <td>0</td>\n",
       "      <td>0</td>\n",
       "      <td>0</td>\n",
       "      <td>0</td>\n",
       "      <td>1</td>\n",
       "      <td>0</td>\n",
       "      <td>0</td>\n",
       "      <td>0</td>\n",
       "      <td>0</td>\n",
       "      <td>0</td>\n",
       "      <td>0</td>\n",
       "      <td>0.0</td>\n",
       "      <td>0.119472</td>\n",
       "      <td>0.009402</td>\n",
       "      <td>0.009631</td>\n",
       "      <td>0.180047</td>\n",
       "      <td>-0.700374</td>\n",
       "    </tr>\n",
       "    <tr>\n",
       "      <th>2</th>\n",
       "      <td>0</td>\n",
       "      <td>0</td>\n",
       "      <td>0</td>\n",
       "      <td>0</td>\n",
       "      <td>0</td>\n",
       "      <td>0</td>\n",
       "      <td>0</td>\n",
       "      <td>0</td>\n",
       "      <td>0</td>\n",
       "      <td>1</td>\n",
       "      <td>0</td>\n",
       "      <td>0</td>\n",
       "      <td>0.0</td>\n",
       "      <td>0.124423</td>\n",
       "      <td>0.043717</td>\n",
       "      <td>0.072117</td>\n",
       "      <td>0.196253</td>\n",
       "      <td>-2.001223</td>\n",
       "    </tr>\n",
       "    <tr>\n",
       "      <th>3</th>\n",
       "      <td>0</td>\n",
       "      <td>0</td>\n",
       "      <td>0</td>\n",
       "      <td>0</td>\n",
       "      <td>0</td>\n",
       "      <td>0</td>\n",
       "      <td>0</td>\n",
       "      <td>1</td>\n",
       "      <td>0</td>\n",
       "      <td>0</td>\n",
       "      <td>0</td>\n",
       "      <td>0</td>\n",
       "      <td>0.0</td>\n",
       "      <td>0.097718</td>\n",
       "      <td>0.006625</td>\n",
       "      <td>0.004228</td>\n",
       "      <td>0.160232</td>\n",
       "      <td>0.189551</td>\n",
       "    </tr>\n",
       "    <tr>\n",
       "      <th>4</th>\n",
       "      <td>0</td>\n",
       "      <td>0</td>\n",
       "      <td>0</td>\n",
       "      <td>1</td>\n",
       "      <td>0</td>\n",
       "      <td>0</td>\n",
       "      <td>0</td>\n",
       "      <td>0</td>\n",
       "      <td>0</td>\n",
       "      <td>0</td>\n",
       "      <td>0</td>\n",
       "      <td>0</td>\n",
       "      <td>0.0</td>\n",
       "      <td>0.077368</td>\n",
       "      <td>0.041412</td>\n",
       "      <td>0.120038</td>\n",
       "      <td>0.169569</td>\n",
       "      <td>0.057307</td>\n",
       "    </tr>\n",
       "    <tr>\n",
       "      <th>...</th>\n",
       "      <td>...</td>\n",
       "      <td>...</td>\n",
       "      <td>...</td>\n",
       "      <td>...</td>\n",
       "      <td>...</td>\n",
       "      <td>...</td>\n",
       "      <td>...</td>\n",
       "      <td>...</td>\n",
       "      <td>...</td>\n",
       "      <td>...</td>\n",
       "      <td>...</td>\n",
       "      <td>...</td>\n",
       "      <td>...</td>\n",
       "      <td>...</td>\n",
       "      <td>...</td>\n",
       "      <td>...</td>\n",
       "      <td>...</td>\n",
       "      <td>...</td>\n",
       "    </tr>\n",
       "    <tr>\n",
       "      <th>540</th>\n",
       "      <td>0</td>\n",
       "      <td>0</td>\n",
       "      <td>0</td>\n",
       "      <td>0</td>\n",
       "      <td>0</td>\n",
       "      <td>0</td>\n",
       "      <td>0</td>\n",
       "      <td>1</td>\n",
       "      <td>0</td>\n",
       "      <td>0</td>\n",
       "      <td>0</td>\n",
       "      <td>0</td>\n",
       "      <td>1.0</td>\n",
       "      <td>0.088600</td>\n",
       "      <td>0.005542</td>\n",
       "      <td>0.003759</td>\n",
       "      <td>0.151955</td>\n",
       "      <td>-1.225530</td>\n",
       "    </tr>\n",
       "    <tr>\n",
       "      <th>541</th>\n",
       "      <td>0</td>\n",
       "      <td>0</td>\n",
       "      <td>1</td>\n",
       "      <td>0</td>\n",
       "      <td>0</td>\n",
       "      <td>0</td>\n",
       "      <td>0</td>\n",
       "      <td>0</td>\n",
       "      <td>0</td>\n",
       "      <td>0</td>\n",
       "      <td>0</td>\n",
       "      <td>0</td>\n",
       "      <td>1.0</td>\n",
       "      <td>0.346751</td>\n",
       "      <td>0.252966</td>\n",
       "      <td>0.012528</td>\n",
       "      <td>0.461568</td>\n",
       "      <td>0.093079</td>\n",
       "    </tr>\n",
       "    <tr>\n",
       "      <th>542</th>\n",
       "      <td>0</td>\n",
       "      <td>0</td>\n",
       "      <td>0</td>\n",
       "      <td>0</td>\n",
       "      <td>0</td>\n",
       "      <td>0</td>\n",
       "      <td>0</td>\n",
       "      <td>0</td>\n",
       "      <td>0</td>\n",
       "      <td>0</td>\n",
       "      <td>0</td>\n",
       "      <td>1</td>\n",
       "      <td>1.0</td>\n",
       "      <td>0.495536</td>\n",
       "      <td>0.207219</td>\n",
       "      <td>0.003759</td>\n",
       "      <td>0.574614</td>\n",
       "      <td>-1.188026</td>\n",
       "    </tr>\n",
       "    <tr>\n",
       "      <th>543</th>\n",
       "      <td>0</td>\n",
       "      <td>0</td>\n",
       "      <td>0</td>\n",
       "      <td>0</td>\n",
       "      <td>0</td>\n",
       "      <td>0</td>\n",
       "      <td>0</td>\n",
       "      <td>0</td>\n",
       "      <td>0</td>\n",
       "      <td>1</td>\n",
       "      <td>0</td>\n",
       "      <td>0</td>\n",
       "      <td>1.0</td>\n",
       "      <td>0.196173</td>\n",
       "      <td>0.104350</td>\n",
       "      <td>0.036176</td>\n",
       "      <td>0.279481</td>\n",
       "      <td>-1.073317</td>\n",
       "    </tr>\n",
       "    <tr>\n",
       "      <th>544</th>\n",
       "      <td>0</td>\n",
       "      <td>0</td>\n",
       "      <td>0</td>\n",
       "      <td>0</td>\n",
       "      <td>0</td>\n",
       "      <td>0</td>\n",
       "      <td>0</td>\n",
       "      <td>0</td>\n",
       "      <td>0</td>\n",
       "      <td>1</td>\n",
       "      <td>0</td>\n",
       "      <td>0</td>\n",
       "      <td>1.0</td>\n",
       "      <td>0.157819</td>\n",
       "      <td>0.080032</td>\n",
       "      <td>0.039778</td>\n",
       "      <td>0.237802</td>\n",
       "      <td>-0.872061</td>\n",
       "    </tr>\n",
       "  </tbody>\n",
       "</table>\n",
       "<p>545 rows × 18 columns</p>\n",
       "</div>"
      ],
      "text/plain": [
       "     Region_Americas  Region_Asia  Region_Eastern and South-Eastern Asia  \\\n",
       "0                  0            0                                      0   \n",
       "1                  0            0                                      0   \n",
       "2                  0            0                                      0   \n",
       "3                  0            0                                      0   \n",
       "4                  0            0                                      0   \n",
       "..               ...          ...                                    ...   \n",
       "540                0            0                                      0   \n",
       "541                0            0                                      1   \n",
       "542                0            0                                      0   \n",
       "543                0            0                                      0   \n",
       "544                0            0                                      0   \n",
       "\n",
       "     Region_Europe  Region_North America  Region_Northern Africa  \\\n",
       "0                1                     0                       0   \n",
       "1                0                     0                       1   \n",
       "2                0                     0                       0   \n",
       "3                0                     0                       0   \n",
       "4                1                     0                       0   \n",
       "..             ...                   ...                     ...   \n",
       "540              0                     0                       0   \n",
       "541              0                     0                       0   \n",
       "542              0                     0                       0   \n",
       "543              0                     0                       0   \n",
       "544              0                     0                       0   \n",
       "\n",
       "     Region_Oceania  Region_South America  Region_South-central Asia  \\\n",
       "0                 0                     0                          0   \n",
       "1                 0                     0                          0   \n",
       "2                 0                     0                          0   \n",
       "3                 0                     1                          0   \n",
       "4                 0                     0                          0   \n",
       "..              ...                   ...                        ...   \n",
       "540               0                     1                          0   \n",
       "541               0                     0                          0   \n",
       "542               0                     0                          0   \n",
       "543               0                     0                          0   \n",
       "544               0                     0                          0   \n",
       "\n",
       "     Region_Southern Africa  Region_Sub-Saharan Africa  Region_Western Asia  \\\n",
       "0                         0                          0                    0   \n",
       "1                         0                          0                    0   \n",
       "2                         1                          0                    0   \n",
       "3                         0                          0                    0   \n",
       "4                         0                          0                    0   \n",
       "..                      ...                        ...                  ...   \n",
       "540                       0                          0                    0   \n",
       "541                       0                          0                    0   \n",
       "542                       0                          0                    1   \n",
       "543                       1                          0                    0   \n",
       "544                       1                          0                    0   \n",
       "\n",
       "     Year  Bilateral  Multilateral  Total(%_GNI)     Total  sitc_eci  \n",
       "0     0.0   0.095590      0.024473      0.061076  0.164585 -0.560130  \n",
       "1     0.0   0.119472      0.009402      0.009631  0.180047 -0.700374  \n",
       "2     0.0   0.124423      0.043717      0.072117  0.196253 -2.001223  \n",
       "3     0.0   0.097718      0.006625      0.004228  0.160232  0.189551  \n",
       "4     0.0   0.077368      0.041412      0.120038  0.169569  0.057307  \n",
       "..    ...        ...           ...           ...       ...       ...  \n",
       "540   1.0   0.088600      0.005542      0.003759  0.151955 -1.225530  \n",
       "541   1.0   0.346751      0.252966      0.012528  0.461568  0.093079  \n",
       "542   1.0   0.495536      0.207219      0.003759  0.574614 -1.188026  \n",
       "543   1.0   0.196173      0.104350      0.036176  0.279481 -1.073317  \n",
       "544   1.0   0.157819      0.080032      0.039778  0.237802 -0.872061  \n",
       "\n",
       "[545 rows x 18 columns]"
      ]
     },
     "execution_count": 99,
     "metadata": {},
     "output_type": "execute_result"
    }
   ],
   "source": [
    "result_new"
   ]
  },
  {
   "cell_type": "markdown",
   "metadata": {},
   "source": [
    "### 5.2) Create a correlation matrix to check for multi-colinearity"
   ]
  },
  {
   "cell_type": "code",
   "execution_count": 101,
   "metadata": {},
   "outputs": [
    {
     "data": {
      "text/html": [
       "<div>\n",
       "<style scoped>\n",
       "    .dataframe tbody tr th:only-of-type {\n",
       "        vertical-align: middle;\n",
       "    }\n",
       "\n",
       "    .dataframe tbody tr th {\n",
       "        vertical-align: top;\n",
       "    }\n",
       "\n",
       "    .dataframe thead th {\n",
       "        text-align: right;\n",
       "    }\n",
       "</style>\n",
       "<table border=\"1\" class=\"dataframe\">\n",
       "  <thead>\n",
       "    <tr style=\"text-align: right;\">\n",
       "      <th></th>\n",
       "      <th>Region_Americas</th>\n",
       "      <th>Region_Asia</th>\n",
       "      <th>Region_Eastern and South-Eastern Asia</th>\n",
       "      <th>Region_Europe</th>\n",
       "      <th>Region_North America</th>\n",
       "      <th>Region_Northern Africa</th>\n",
       "      <th>Region_Oceania</th>\n",
       "      <th>Region_South America</th>\n",
       "      <th>Region_South-central Asia</th>\n",
       "      <th>Region_Southern Africa</th>\n",
       "      <th>Region_Sub-Saharan Africa</th>\n",
       "      <th>Region_Western Asia</th>\n",
       "      <th>Year</th>\n",
       "      <th>Bilateral</th>\n",
       "      <th>Multilateral</th>\n",
       "      <th>Total(%_GNI)</th>\n",
       "      <th>Total</th>\n",
       "    </tr>\n",
       "  </thead>\n",
       "  <tbody>\n",
       "    <tr>\n",
       "      <th>Region_Americas</th>\n",
       "      <td>1.000000</td>\n",
       "      <td>-0.053425</td>\n",
       "      <td>-0.106211</td>\n",
       "      <td>-0.106211</td>\n",
       "      <td>-0.036059</td>\n",
       "      <td>-0.082487</td>\n",
       "      <td>-0.036059</td>\n",
       "      <td>-0.120208</td>\n",
       "      <td>-0.120208</td>\n",
       "      <td>-0.166954</td>\n",
       "      <td>-0.126862</td>\n",
       "      <td>-0.103766</td>\n",
       "      <td>-0.007670</td>\n",
       "      <td>-0.127943</td>\n",
       "      <td>-0.181738</td>\n",
       "      <td>-0.097153</td>\n",
       "      <td>-0.162387</td>\n",
       "    </tr>\n",
       "    <tr>\n",
       "      <th>Region_Asia</th>\n",
       "      <td>-0.053425</td>\n",
       "      <td>1.000000</td>\n",
       "      <td>-0.048580</td>\n",
       "      <td>-0.048580</td>\n",
       "      <td>-0.016493</td>\n",
       "      <td>-0.037729</td>\n",
       "      <td>-0.016493</td>\n",
       "      <td>-0.054982</td>\n",
       "      <td>-0.054982</td>\n",
       "      <td>-0.076363</td>\n",
       "      <td>-0.058026</td>\n",
       "      <td>-0.047462</td>\n",
       "      <td>-0.019450</td>\n",
       "      <td>-0.082506</td>\n",
       "      <td>-0.017516</td>\n",
       "      <td>-0.023682</td>\n",
       "      <td>-0.043104</td>\n",
       "    </tr>\n",
       "    <tr>\n",
       "      <th>Region_Eastern and South-Eastern Asia</th>\n",
       "      <td>-0.106211</td>\n",
       "      <td>-0.048580</td>\n",
       "      <td>1.000000</td>\n",
       "      <td>-0.096579</td>\n",
       "      <td>-0.032789</td>\n",
       "      <td>-0.075007</td>\n",
       "      <td>-0.032789</td>\n",
       "      <td>-0.109307</td>\n",
       "      <td>-0.109307</td>\n",
       "      <td>-0.151814</td>\n",
       "      <td>-0.115358</td>\n",
       "      <td>-0.094356</td>\n",
       "      <td>0.006316</td>\n",
       "      <td>0.039956</td>\n",
       "      <td>-0.038925</td>\n",
       "      <td>-0.068331</td>\n",
       "      <td>0.010898</td>\n",
       "    </tr>\n",
       "    <tr>\n",
       "      <th>Region_Europe</th>\n",
       "      <td>-0.106211</td>\n",
       "      <td>-0.048580</td>\n",
       "      <td>-0.096579</td>\n",
       "      <td>1.000000</td>\n",
       "      <td>-0.032789</td>\n",
       "      <td>-0.075007</td>\n",
       "      <td>-0.032789</td>\n",
       "      <td>-0.109307</td>\n",
       "      <td>-0.109307</td>\n",
       "      <td>-0.151814</td>\n",
       "      <td>-0.115358</td>\n",
       "      <td>-0.094356</td>\n",
       "      <td>0.018776</td>\n",
       "      <td>-0.125182</td>\n",
       "      <td>-0.075505</td>\n",
       "      <td>-0.018036</td>\n",
       "      <td>-0.112432</td>\n",
       "    </tr>\n",
       "    <tr>\n",
       "      <th>Region_North America</th>\n",
       "      <td>-0.036059</td>\n",
       "      <td>-0.016493</td>\n",
       "      <td>-0.032789</td>\n",
       "      <td>-0.032789</td>\n",
       "      <td>1.000000</td>\n",
       "      <td>-0.025465</td>\n",
       "      <td>-0.011132</td>\n",
       "      <td>-0.037110</td>\n",
       "      <td>-0.037110</td>\n",
       "      <td>-0.051541</td>\n",
       "      <td>-0.039164</td>\n",
       "      <td>-0.032034</td>\n",
       "      <td>0.002144</td>\n",
       "      <td>-0.003526</td>\n",
       "      <td>-0.052041</td>\n",
       "      <td>-0.048440</td>\n",
       "      <td>-0.023392</td>\n",
       "    </tr>\n",
       "    <tr>\n",
       "      <th>Region_Northern Africa</th>\n",
       "      <td>-0.082487</td>\n",
       "      <td>-0.037729</td>\n",
       "      <td>-0.075007</td>\n",
       "      <td>-0.075007</td>\n",
       "      <td>-0.025465</td>\n",
       "      <td>1.000000</td>\n",
       "      <td>-0.025465</td>\n",
       "      <td>-0.084891</td>\n",
       "      <td>-0.084891</td>\n",
       "      <td>-0.117903</td>\n",
       "      <td>-0.089590</td>\n",
       "      <td>-0.073280</td>\n",
       "      <td>0.004905</td>\n",
       "      <td>0.014684</td>\n",
       "      <td>-0.015667</td>\n",
       "      <td>-0.089047</td>\n",
       "      <td>0.002711</td>\n",
       "    </tr>\n",
       "    <tr>\n",
       "      <th>Region_Oceania</th>\n",
       "      <td>-0.036059</td>\n",
       "      <td>-0.016493</td>\n",
       "      <td>-0.032789</td>\n",
       "      <td>-0.032789</td>\n",
       "      <td>-0.011132</td>\n",
       "      <td>-0.025465</td>\n",
       "      <td>1.000000</td>\n",
       "      <td>-0.037110</td>\n",
       "      <td>-0.037110</td>\n",
       "      <td>-0.051541</td>\n",
       "      <td>-0.039164</td>\n",
       "      <td>-0.032034</td>\n",
       "      <td>0.002144</td>\n",
       "      <td>-0.009416</td>\n",
       "      <td>-0.049406</td>\n",
       "      <td>0.002800</td>\n",
       "      <td>-0.026483</td>\n",
       "    </tr>\n",
       "    <tr>\n",
       "      <th>Region_South America</th>\n",
       "      <td>-0.120208</td>\n",
       "      <td>-0.054982</td>\n",
       "      <td>-0.109307</td>\n",
       "      <td>-0.109307</td>\n",
       "      <td>-0.037110</td>\n",
       "      <td>-0.084891</td>\n",
       "      <td>-0.037110</td>\n",
       "      <td>1.000000</td>\n",
       "      <td>-0.123711</td>\n",
       "      <td>-0.171820</td>\n",
       "      <td>-0.130560</td>\n",
       "      <td>-0.106791</td>\n",
       "      <td>0.007149</td>\n",
       "      <td>-0.136126</td>\n",
       "      <td>-0.172831</td>\n",
       "      <td>-0.138702</td>\n",
       "      <td>-0.164695</td>\n",
       "    </tr>\n",
       "    <tr>\n",
       "      <th>Region_South-central Asia</th>\n",
       "      <td>-0.120208</td>\n",
       "      <td>-0.054982</td>\n",
       "      <td>-0.109307</td>\n",
       "      <td>-0.109307</td>\n",
       "      <td>-0.037110</td>\n",
       "      <td>-0.084891</td>\n",
       "      <td>-0.037110</td>\n",
       "      <td>-0.123711</td>\n",
       "      <td>1.000000</td>\n",
       "      <td>-0.171820</td>\n",
       "      <td>-0.130560</td>\n",
       "      <td>-0.106791</td>\n",
       "      <td>0.007149</td>\n",
       "      <td>0.031722</td>\n",
       "      <td>0.153911</td>\n",
       "      <td>-0.075061</td>\n",
       "      <td>0.082546</td>\n",
       "    </tr>\n",
       "    <tr>\n",
       "      <th>Region_Southern Africa</th>\n",
       "      <td>-0.166954</td>\n",
       "      <td>-0.076363</td>\n",
       "      <td>-0.151814</td>\n",
       "      <td>-0.151814</td>\n",
       "      <td>-0.051541</td>\n",
       "      <td>-0.117903</td>\n",
       "      <td>-0.051541</td>\n",
       "      <td>-0.171820</td>\n",
       "      <td>-0.171820</td>\n",
       "      <td>1.000000</td>\n",
       "      <td>-0.181331</td>\n",
       "      <td>-0.148319</td>\n",
       "      <td>0.036193</td>\n",
       "      <td>0.206431</td>\n",
       "      <td>0.215133</td>\n",
       "      <td>0.356401</td>\n",
       "      <td>0.225314</td>\n",
       "    </tr>\n",
       "    <tr>\n",
       "      <th>Region_Sub-Saharan Africa</th>\n",
       "      <td>-0.126862</td>\n",
       "      <td>-0.058026</td>\n",
       "      <td>-0.115358</td>\n",
       "      <td>-0.115358</td>\n",
       "      <td>-0.039164</td>\n",
       "      <td>-0.089590</td>\n",
       "      <td>-0.039164</td>\n",
       "      <td>-0.130560</td>\n",
       "      <td>-0.130560</td>\n",
       "      <td>-0.181331</td>\n",
       "      <td>1.000000</td>\n",
       "      <td>-0.112702</td>\n",
       "      <td>0.007544</td>\n",
       "      <td>0.033238</td>\n",
       "      <td>0.055304</td>\n",
       "      <td>0.084445</td>\n",
       "      <td>0.042582</td>\n",
       "    </tr>\n",
       "    <tr>\n",
       "      <th>Region_Western Asia</th>\n",
       "      <td>-0.103766</td>\n",
       "      <td>-0.047462</td>\n",
       "      <td>-0.094356</td>\n",
       "      <td>-0.094356</td>\n",
       "      <td>-0.032034</td>\n",
       "      <td>-0.073280</td>\n",
       "      <td>-0.032034</td>\n",
       "      <td>-0.106791</td>\n",
       "      <td>-0.106791</td>\n",
       "      <td>-0.148319</td>\n",
       "      <td>-0.112702</td>\n",
       "      <td>1.000000</td>\n",
       "      <td>-0.088393</td>\n",
       "      <td>0.051508</td>\n",
       "      <td>0.028454</td>\n",
       "      <td>-0.065862</td>\n",
       "      <td>0.045293</td>\n",
       "    </tr>\n",
       "    <tr>\n",
       "      <th>Year</th>\n",
       "      <td>-0.007670</td>\n",
       "      <td>-0.019450</td>\n",
       "      <td>0.006316</td>\n",
       "      <td>0.018776</td>\n",
       "      <td>0.002144</td>\n",
       "      <td>0.004905</td>\n",
       "      <td>0.002144</td>\n",
       "      <td>0.007149</td>\n",
       "      <td>0.007149</td>\n",
       "      <td>0.036193</td>\n",
       "      <td>0.007544</td>\n",
       "      <td>-0.088393</td>\n",
       "      <td>1.000000</td>\n",
       "      <td>0.155624</td>\n",
       "      <td>0.235553</td>\n",
       "      <td>-0.142292</td>\n",
       "      <td>0.182812</td>\n",
       "    </tr>\n",
       "    <tr>\n",
       "      <th>Bilateral</th>\n",
       "      <td>-0.127943</td>\n",
       "      <td>-0.082506</td>\n",
       "      <td>0.039956</td>\n",
       "      <td>-0.125182</td>\n",
       "      <td>-0.003526</td>\n",
       "      <td>0.014684</td>\n",
       "      <td>-0.009416</td>\n",
       "      <td>-0.136126</td>\n",
       "      <td>0.031722</td>\n",
       "      <td>0.206431</td>\n",
       "      <td>0.033238</td>\n",
       "      <td>0.051508</td>\n",
       "      <td>0.155624</td>\n",
       "      <td>1.000000</td>\n",
       "      <td>0.598296</td>\n",
       "      <td>0.183013</td>\n",
       "      <td>0.928197</td>\n",
       "    </tr>\n",
       "    <tr>\n",
       "      <th>Multilateral</th>\n",
       "      <td>-0.181738</td>\n",
       "      <td>-0.017516</td>\n",
       "      <td>-0.038925</td>\n",
       "      <td>-0.075505</td>\n",
       "      <td>-0.052041</td>\n",
       "      <td>-0.015667</td>\n",
       "      <td>-0.049406</td>\n",
       "      <td>-0.172831</td>\n",
       "      <td>0.153911</td>\n",
       "      <td>0.215133</td>\n",
       "      <td>0.055304</td>\n",
       "      <td>0.028454</td>\n",
       "      <td>0.235553</td>\n",
       "      <td>0.598296</td>\n",
       "      <td>1.000000</td>\n",
       "      <td>0.098006</td>\n",
       "      <td>0.820448</td>\n",
       "    </tr>\n",
       "    <tr>\n",
       "      <th>Total(%_GNI)</th>\n",
       "      <td>-0.097153</td>\n",
       "      <td>-0.023682</td>\n",
       "      <td>-0.068331</td>\n",
       "      <td>-0.018036</td>\n",
       "      <td>-0.048440</td>\n",
       "      <td>-0.089047</td>\n",
       "      <td>0.002800</td>\n",
       "      <td>-0.138702</td>\n",
       "      <td>-0.075061</td>\n",
       "      <td>0.356401</td>\n",
       "      <td>0.084445</td>\n",
       "      <td>-0.065862</td>\n",
       "      <td>-0.142292</td>\n",
       "      <td>0.183013</td>\n",
       "      <td>0.098006</td>\n",
       "      <td>1.000000</td>\n",
       "      <td>0.164860</td>\n",
       "    </tr>\n",
       "    <tr>\n",
       "      <th>Total</th>\n",
       "      <td>-0.162387</td>\n",
       "      <td>-0.043104</td>\n",
       "      <td>0.010898</td>\n",
       "      <td>-0.112432</td>\n",
       "      <td>-0.023392</td>\n",
       "      <td>0.002711</td>\n",
       "      <td>-0.026483</td>\n",
       "      <td>-0.164695</td>\n",
       "      <td>0.082546</td>\n",
       "      <td>0.225314</td>\n",
       "      <td>0.042582</td>\n",
       "      <td>0.045293</td>\n",
       "      <td>0.182812</td>\n",
       "      <td>0.928197</td>\n",
       "      <td>0.820448</td>\n",
       "      <td>0.164860</td>\n",
       "      <td>1.000000</td>\n",
       "    </tr>\n",
       "  </tbody>\n",
       "</table>\n",
       "</div>"
      ],
      "text/plain": [
       "                                       Region_Americas  Region_Asia  \\\n",
       "Region_Americas                               1.000000    -0.053425   \n",
       "Region_Asia                                  -0.053425     1.000000   \n",
       "Region_Eastern and South-Eastern Asia        -0.106211    -0.048580   \n",
       "Region_Europe                                -0.106211    -0.048580   \n",
       "Region_North America                         -0.036059    -0.016493   \n",
       "Region_Northern Africa                       -0.082487    -0.037729   \n",
       "Region_Oceania                               -0.036059    -0.016493   \n",
       "Region_South America                         -0.120208    -0.054982   \n",
       "Region_South-central Asia                    -0.120208    -0.054982   \n",
       "Region_Southern Africa                       -0.166954    -0.076363   \n",
       "Region_Sub-Saharan Africa                    -0.126862    -0.058026   \n",
       "Region_Western Asia                          -0.103766    -0.047462   \n",
       "Year                                         -0.007670    -0.019450   \n",
       "Bilateral                                    -0.127943    -0.082506   \n",
       "Multilateral                                 -0.181738    -0.017516   \n",
       "Total(%_GNI)                                 -0.097153    -0.023682   \n",
       "Total                                        -0.162387    -0.043104   \n",
       "\n",
       "                                       Region_Eastern and South-Eastern Asia  \\\n",
       "Region_Americas                                                    -0.106211   \n",
       "Region_Asia                                                        -0.048580   \n",
       "Region_Eastern and South-Eastern Asia                               1.000000   \n",
       "Region_Europe                                                      -0.096579   \n",
       "Region_North America                                               -0.032789   \n",
       "Region_Northern Africa                                             -0.075007   \n",
       "Region_Oceania                                                     -0.032789   \n",
       "Region_South America                                               -0.109307   \n",
       "Region_South-central Asia                                          -0.109307   \n",
       "Region_Southern Africa                                             -0.151814   \n",
       "Region_Sub-Saharan Africa                                          -0.115358   \n",
       "Region_Western Asia                                                -0.094356   \n",
       "Year                                                                0.006316   \n",
       "Bilateral                                                           0.039956   \n",
       "Multilateral                                                       -0.038925   \n",
       "Total(%_GNI)                                                       -0.068331   \n",
       "Total                                                               0.010898   \n",
       "\n",
       "                                       Region_Europe  Region_North America  \\\n",
       "Region_Americas                            -0.106211             -0.036059   \n",
       "Region_Asia                                -0.048580             -0.016493   \n",
       "Region_Eastern and South-Eastern Asia      -0.096579             -0.032789   \n",
       "Region_Europe                               1.000000             -0.032789   \n",
       "Region_North America                       -0.032789              1.000000   \n",
       "Region_Northern Africa                     -0.075007             -0.025465   \n",
       "Region_Oceania                             -0.032789             -0.011132   \n",
       "Region_South America                       -0.109307             -0.037110   \n",
       "Region_South-central Asia                  -0.109307             -0.037110   \n",
       "Region_Southern Africa                     -0.151814             -0.051541   \n",
       "Region_Sub-Saharan Africa                  -0.115358             -0.039164   \n",
       "Region_Western Asia                        -0.094356             -0.032034   \n",
       "Year                                        0.018776              0.002144   \n",
       "Bilateral                                  -0.125182             -0.003526   \n",
       "Multilateral                               -0.075505             -0.052041   \n",
       "Total(%_GNI)                               -0.018036             -0.048440   \n",
       "Total                                      -0.112432             -0.023392   \n",
       "\n",
       "                                       Region_Northern Africa  Region_Oceania  \\\n",
       "Region_Americas                                     -0.082487       -0.036059   \n",
       "Region_Asia                                         -0.037729       -0.016493   \n",
       "Region_Eastern and South-Eastern Asia               -0.075007       -0.032789   \n",
       "Region_Europe                                       -0.075007       -0.032789   \n",
       "Region_North America                                -0.025465       -0.011132   \n",
       "Region_Northern Africa                               1.000000       -0.025465   \n",
       "Region_Oceania                                      -0.025465        1.000000   \n",
       "Region_South America                                -0.084891       -0.037110   \n",
       "Region_South-central Asia                           -0.084891       -0.037110   \n",
       "Region_Southern Africa                              -0.117903       -0.051541   \n",
       "Region_Sub-Saharan Africa                           -0.089590       -0.039164   \n",
       "Region_Western Asia                                 -0.073280       -0.032034   \n",
       "Year                                                 0.004905        0.002144   \n",
       "Bilateral                                            0.014684       -0.009416   \n",
       "Multilateral                                        -0.015667       -0.049406   \n",
       "Total(%_GNI)                                        -0.089047        0.002800   \n",
       "Total                                                0.002711       -0.026483   \n",
       "\n",
       "                                       Region_South America  \\\n",
       "Region_Americas                                   -0.120208   \n",
       "Region_Asia                                       -0.054982   \n",
       "Region_Eastern and South-Eastern Asia             -0.109307   \n",
       "Region_Europe                                     -0.109307   \n",
       "Region_North America                              -0.037110   \n",
       "Region_Northern Africa                            -0.084891   \n",
       "Region_Oceania                                    -0.037110   \n",
       "Region_South America                               1.000000   \n",
       "Region_South-central Asia                         -0.123711   \n",
       "Region_Southern Africa                            -0.171820   \n",
       "Region_Sub-Saharan Africa                         -0.130560   \n",
       "Region_Western Asia                               -0.106791   \n",
       "Year                                               0.007149   \n",
       "Bilateral                                         -0.136126   \n",
       "Multilateral                                      -0.172831   \n",
       "Total(%_GNI)                                      -0.138702   \n",
       "Total                                             -0.164695   \n",
       "\n",
       "                                       Region_South-central Asia  \\\n",
       "Region_Americas                                        -0.120208   \n",
       "Region_Asia                                            -0.054982   \n",
       "Region_Eastern and South-Eastern Asia                  -0.109307   \n",
       "Region_Europe                                          -0.109307   \n",
       "Region_North America                                   -0.037110   \n",
       "Region_Northern Africa                                 -0.084891   \n",
       "Region_Oceania                                         -0.037110   \n",
       "Region_South America                                   -0.123711   \n",
       "Region_South-central Asia                               1.000000   \n",
       "Region_Southern Africa                                 -0.171820   \n",
       "Region_Sub-Saharan Africa                              -0.130560   \n",
       "Region_Western Asia                                    -0.106791   \n",
       "Year                                                    0.007149   \n",
       "Bilateral                                               0.031722   \n",
       "Multilateral                                            0.153911   \n",
       "Total(%_GNI)                                           -0.075061   \n",
       "Total                                                   0.082546   \n",
       "\n",
       "                                       Region_Southern Africa  \\\n",
       "Region_Americas                                     -0.166954   \n",
       "Region_Asia                                         -0.076363   \n",
       "Region_Eastern and South-Eastern Asia               -0.151814   \n",
       "Region_Europe                                       -0.151814   \n",
       "Region_North America                                -0.051541   \n",
       "Region_Northern Africa                              -0.117903   \n",
       "Region_Oceania                                      -0.051541   \n",
       "Region_South America                                -0.171820   \n",
       "Region_South-central Asia                           -0.171820   \n",
       "Region_Southern Africa                               1.000000   \n",
       "Region_Sub-Saharan Africa                           -0.181331   \n",
       "Region_Western Asia                                 -0.148319   \n",
       "Year                                                 0.036193   \n",
       "Bilateral                                            0.206431   \n",
       "Multilateral                                         0.215133   \n",
       "Total(%_GNI)                                         0.356401   \n",
       "Total                                                0.225314   \n",
       "\n",
       "                                       Region_Sub-Saharan Africa  \\\n",
       "Region_Americas                                        -0.126862   \n",
       "Region_Asia                                            -0.058026   \n",
       "Region_Eastern and South-Eastern Asia                  -0.115358   \n",
       "Region_Europe                                          -0.115358   \n",
       "Region_North America                                   -0.039164   \n",
       "Region_Northern Africa                                 -0.089590   \n",
       "Region_Oceania                                         -0.039164   \n",
       "Region_South America                                   -0.130560   \n",
       "Region_South-central Asia                              -0.130560   \n",
       "Region_Southern Africa                                 -0.181331   \n",
       "Region_Sub-Saharan Africa                               1.000000   \n",
       "Region_Western Asia                                    -0.112702   \n",
       "Year                                                    0.007544   \n",
       "Bilateral                                               0.033238   \n",
       "Multilateral                                            0.055304   \n",
       "Total(%_GNI)                                            0.084445   \n",
       "Total                                                   0.042582   \n",
       "\n",
       "                                       Region_Western Asia      Year  \\\n",
       "Region_Americas                                  -0.103766 -0.007670   \n",
       "Region_Asia                                      -0.047462 -0.019450   \n",
       "Region_Eastern and South-Eastern Asia            -0.094356  0.006316   \n",
       "Region_Europe                                    -0.094356  0.018776   \n",
       "Region_North America                             -0.032034  0.002144   \n",
       "Region_Northern Africa                           -0.073280  0.004905   \n",
       "Region_Oceania                                   -0.032034  0.002144   \n",
       "Region_South America                             -0.106791  0.007149   \n",
       "Region_South-central Asia                        -0.106791  0.007149   \n",
       "Region_Southern Africa                           -0.148319  0.036193   \n",
       "Region_Sub-Saharan Africa                        -0.112702  0.007544   \n",
       "Region_Western Asia                               1.000000 -0.088393   \n",
       "Year                                             -0.088393  1.000000   \n",
       "Bilateral                                         0.051508  0.155624   \n",
       "Multilateral                                      0.028454  0.235553   \n",
       "Total(%_GNI)                                     -0.065862 -0.142292   \n",
       "Total                                             0.045293  0.182812   \n",
       "\n",
       "                                       Bilateral  Multilateral  Total(%_GNI)  \\\n",
       "Region_Americas                        -0.127943     -0.181738     -0.097153   \n",
       "Region_Asia                            -0.082506     -0.017516     -0.023682   \n",
       "Region_Eastern and South-Eastern Asia   0.039956     -0.038925     -0.068331   \n",
       "Region_Europe                          -0.125182     -0.075505     -0.018036   \n",
       "Region_North America                   -0.003526     -0.052041     -0.048440   \n",
       "Region_Northern Africa                  0.014684     -0.015667     -0.089047   \n",
       "Region_Oceania                         -0.009416     -0.049406      0.002800   \n",
       "Region_South America                   -0.136126     -0.172831     -0.138702   \n",
       "Region_South-central Asia               0.031722      0.153911     -0.075061   \n",
       "Region_Southern Africa                  0.206431      0.215133      0.356401   \n",
       "Region_Sub-Saharan Africa               0.033238      0.055304      0.084445   \n",
       "Region_Western Asia                     0.051508      0.028454     -0.065862   \n",
       "Year                                    0.155624      0.235553     -0.142292   \n",
       "Bilateral                               1.000000      0.598296      0.183013   \n",
       "Multilateral                            0.598296      1.000000      0.098006   \n",
       "Total(%_GNI)                            0.183013      0.098006      1.000000   \n",
       "Total                                   0.928197      0.820448      0.164860   \n",
       "\n",
       "                                          Total  \n",
       "Region_Americas                       -0.162387  \n",
       "Region_Asia                           -0.043104  \n",
       "Region_Eastern and South-Eastern Asia  0.010898  \n",
       "Region_Europe                         -0.112432  \n",
       "Region_North America                  -0.023392  \n",
       "Region_Northern Africa                 0.002711  \n",
       "Region_Oceania                        -0.026483  \n",
       "Region_South America                  -0.164695  \n",
       "Region_South-central Asia              0.082546  \n",
       "Region_Southern Africa                 0.225314  \n",
       "Region_Sub-Saharan Africa              0.042582  \n",
       "Region_Western Asia                    0.045293  \n",
       "Year                                   0.182812  \n",
       "Bilateral                              0.928197  \n",
       "Multilateral                           0.820448  \n",
       "Total(%_GNI)                           0.164860  \n",
       "Total                                  1.000000  "
      ]
     },
     "execution_count": 101,
     "metadata": {},
     "output_type": "execute_result"
    }
   ],
   "source": [
    "corr = result_new.iloc[:,:-1].corr()\n",
    "corr\n"
   ]
  },
  {
   "cell_type": "code",
   "execution_count": 102,
   "metadata": {},
   "outputs": [
    {
     "data": {
      "text/plain": [
       "Region_Americas                          1\n",
       "Region_Asia                              1\n",
       "Region_Eastern and South-Eastern Asia    1\n",
       "Region_Europe                            1\n",
       "Region_North America                     1\n",
       "Region_Northern Africa                   1\n",
       "Region_Oceania                           1\n",
       "Region_South America                     1\n",
       "Region_South-central Asia                1\n",
       "Region_Southern Africa                   1\n",
       "Region_Sub-Saharan Africa                1\n",
       "Region_Western Asia                      1\n",
       "Year                                     1\n",
       "Bilateral                                2\n",
       "Multilateral                             2\n",
       "Total(%_GNI)                             1\n",
       "Total                                    3\n",
       "dtype: int64"
      ]
     },
     "execution_count": 102,
     "metadata": {},
     "output_type": "execute_result"
    }
   ],
   "source": [
    "corr_sig = corr[(corr.iloc[:,:] > .8) | (corr.iloc[:,:] < -.8) ]\n",
    "corr_sig.count()"
   ]
  },
  {
   "cell_type": "code",
   "execution_count": 103,
   "metadata": {},
   "outputs": [
    {
     "data": {
      "text/plain": [
       "<matplotlib.axes._subplots.AxesSubplot at 0x12065f0d0>"
      ]
     },
     "execution_count": 103,
     "metadata": {},
     "output_type": "execute_result"
    },
    {
     "data": {
      "image/png": "[encoded data removed]",
      "text/plain": [
       "<Figure size 792x648 with 2 Axes>"
      ]
     },
     "metadata": {
      "needs_background": "light"
     },
     "output_type": "display_data"
    }
   ],
   "source": [
    "f, ax = plt.subplots(figsize=(11, 9))\n",
    "cmap = sns.diverging_palette(230, 20, as_cmap=True)\n",
    "sns.heatmap(corr, cmap=cmap, center=0,\n",
    "            square=True, linewidths=.5, cbar_kws={\"shrink\": .5})"
   ]
  },
  {
   "cell_type": "markdown",
   "metadata": {},
   "source": [
    "#### From the Above heat map we can see that there is multicolinearity between total and multilateral and bilateral aid. This makes sense as total is created from the sum of the the two columns and is entirely dependent on them. Remove Total Column."
   ]
  },
  {
   "cell_type": "code",
   "execution_count": 104,
   "metadata": {},
   "outputs": [],
   "source": [
    "result_new = result_new.drop(['Total'],axis = 1)"
   ]
  },
  {
   "cell_type": "markdown",
   "metadata": {},
   "source": [
    "### 5.3) Finally, Select only the most important features using mutual information"
   ]
  },
  {
   "cell_type": "code",
   "execution_count": 112,
   "metadata": {},
   "outputs": [],
   "source": [
    "from sklearn.feature_selection import mutual_info_regression"
   ]
  },
  {
   "cell_type": "code",
   "execution_count": 113,
   "metadata": {},
   "outputs": [],
   "source": [
    "x_new = mutual_info_regression(result_new.iloc[:,1:],result_new['sitc_eci'])"
   ]
  },
  {
   "cell_type": "code",
   "execution_count": 114,
   "metadata": {},
   "outputs": [
    {
     "data": {
      "text/plain": [
       "[2, 12, 14, 15]"
      ]
     },
     "execution_count": 114,
     "metadata": {},
     "output_type": "execute_result"
    }
   ],
   "source": [
    "n = 4\n",
    "res = sorted(range(len(x_new)), key = lambda sub: x_new[sub])[-n:] \n",
    "res"
   ]
  },
  {
   "cell_type": "code",
   "execution_count": 115,
   "metadata": {},
   "outputs": [
    {
     "name": "stdout",
     "output_type": "stream",
     "text": [
      "Mutual Information Gain: 0.0839825706806625\n",
      "Feature Chosen: Region_Eastern and South-Eastern Asia\n",
      "\n",
      "\n",
      "Mutual Information Gain: 0.11968245361921426\n",
      "Feature Chosen: Year\n",
      "\n",
      "\n",
      "Mutual Information Gain: 0.16389974484967462\n",
      "Feature Chosen: Multilateral\n",
      "\n",
      "\n",
      "Mutual Information Gain: 5.043750414478881\n",
      "Feature Chosen: Total(%_GNI)\n",
      "\n",
      "\n"
     ]
    }
   ],
   "source": [
    "for i in res:\n",
    "    print(f'Mutual Information Gain: {x_new[i]}')\n",
    "    print(f'Feature Chosen: {result_new.columns[i]}')\n",
    "    print('\\n')"
   ]
  },
  {
   "cell_type": "markdown",
   "metadata": {},
   "source": [
    "#### Limit the dataframe to only the most important variables as selected by mutual information gain above"
   ]
  },
  {
   "cell_type": "code",
   "execution_count": 116,
   "metadata": {},
   "outputs": [],
   "source": [
    "clean_df = result_new[['Bilateral','Year','Multilateral','Total(%_GNI)','sitc_eci']]"
   ]
  },
  {
   "cell_type": "code",
   "execution_count": 117,
   "metadata": {},
   "outputs": [
    {
     "data": {
      "text/html": [
       "<div>\n",
       "<style scoped>\n",
       "    .dataframe tbody tr th:only-of-type {\n",
       "        vertical-align: middle;\n",
       "    }\n",
       "\n",
       "    .dataframe tbody tr th {\n",
       "        vertical-align: top;\n",
       "    }\n",
       "\n",
       "    .dataframe thead th {\n",
       "        text-align: right;\n",
       "    }\n",
       "</style>\n",
       "<table border=\"1\" class=\"dataframe\">\n",
       "  <thead>\n",
       "    <tr style=\"text-align: right;\">\n",
       "      <th></th>\n",
       "      <th>Bilateral</th>\n",
       "      <th>Year</th>\n",
       "      <th>Multilateral</th>\n",
       "      <th>Total(%_GNI)</th>\n",
       "      <th>sitc_eci</th>\n",
       "    </tr>\n",
       "  </thead>\n",
       "  <tbody>\n",
       "    <tr>\n",
       "      <th>0</th>\n",
       "      <td>0.095590</td>\n",
       "      <td>0.0</td>\n",
       "      <td>0.024473</td>\n",
       "      <td>0.061076</td>\n",
       "      <td>-0.560130</td>\n",
       "    </tr>\n",
       "    <tr>\n",
       "      <th>1</th>\n",
       "      <td>0.119472</td>\n",
       "      <td>0.0</td>\n",
       "      <td>0.009402</td>\n",
       "      <td>0.009631</td>\n",
       "      <td>-0.700374</td>\n",
       "    </tr>\n",
       "    <tr>\n",
       "      <th>2</th>\n",
       "      <td>0.124423</td>\n",
       "      <td>0.0</td>\n",
       "      <td>0.043717</td>\n",
       "      <td>0.072117</td>\n",
       "      <td>-2.001223</td>\n",
       "    </tr>\n",
       "    <tr>\n",
       "      <th>3</th>\n",
       "      <td>0.097718</td>\n",
       "      <td>0.0</td>\n",
       "      <td>0.006625</td>\n",
       "      <td>0.004228</td>\n",
       "      <td>0.189551</td>\n",
       "    </tr>\n",
       "    <tr>\n",
       "      <th>4</th>\n",
       "      <td>0.077368</td>\n",
       "      <td>0.0</td>\n",
       "      <td>0.041412</td>\n",
       "      <td>0.120038</td>\n",
       "      <td>0.057307</td>\n",
       "    </tr>\n",
       "    <tr>\n",
       "      <th>...</th>\n",
       "      <td>...</td>\n",
       "      <td>...</td>\n",
       "      <td>...</td>\n",
       "      <td>...</td>\n",
       "      <td>...</td>\n",
       "    </tr>\n",
       "    <tr>\n",
       "      <th>540</th>\n",
       "      <td>0.088600</td>\n",
       "      <td>1.0</td>\n",
       "      <td>0.005542</td>\n",
       "      <td>0.003759</td>\n",
       "      <td>-1.225530</td>\n",
       "    </tr>\n",
       "    <tr>\n",
       "      <th>541</th>\n",
       "      <td>0.346751</td>\n",
       "      <td>1.0</td>\n",
       "      <td>0.252966</td>\n",
       "      <td>0.012528</td>\n",
       "      <td>0.093079</td>\n",
       "    </tr>\n",
       "    <tr>\n",
       "      <th>542</th>\n",
       "      <td>0.495536</td>\n",
       "      <td>1.0</td>\n",
       "      <td>0.207219</td>\n",
       "      <td>0.003759</td>\n",
       "      <td>-1.188026</td>\n",
       "    </tr>\n",
       "    <tr>\n",
       "      <th>543</th>\n",
       "      <td>0.196173</td>\n",
       "      <td>1.0</td>\n",
       "      <td>0.104350</td>\n",
       "      <td>0.036176</td>\n",
       "      <td>-1.073317</td>\n",
       "    </tr>\n",
       "    <tr>\n",
       "      <th>544</th>\n",
       "      <td>0.157819</td>\n",
       "      <td>1.0</td>\n",
       "      <td>0.080032</td>\n",
       "      <td>0.039778</td>\n",
       "      <td>-0.872061</td>\n",
       "    </tr>\n",
       "  </tbody>\n",
       "</table>\n",
       "<p>545 rows × 5 columns</p>\n",
       "</div>"
      ],
      "text/plain": [
       "     Bilateral  Year  Multilateral  Total(%_GNI)  sitc_eci\n",
       "0     0.095590   0.0      0.024473      0.061076 -0.560130\n",
       "1     0.119472   0.0      0.009402      0.009631 -0.700374\n",
       "2     0.124423   0.0      0.043717      0.072117 -2.001223\n",
       "3     0.097718   0.0      0.006625      0.004228  0.189551\n",
       "4     0.077368   0.0      0.041412      0.120038  0.057307\n",
       "..         ...   ...           ...           ...       ...\n",
       "540   0.088600   1.0      0.005542      0.003759 -1.225530\n",
       "541   0.346751   1.0      0.252966      0.012528  0.093079\n",
       "542   0.495536   1.0      0.207219      0.003759 -1.188026\n",
       "543   0.196173   1.0      0.104350      0.036176 -1.073317\n",
       "544   0.157819   1.0      0.080032      0.039778 -0.872061\n",
       "\n",
       "[545 rows x 5 columns]"
      ]
     },
     "execution_count": 117,
     "metadata": {},
     "output_type": "execute_result"
    }
   ],
   "source": [
    "clean_df"
   ]
  },
  {
   "cell_type": "markdown",
   "metadata": {},
   "source": [
    "\n",
    "# 6) Model Selection and Initial implementation"
   ]
  },
  {
   "cell_type": "markdown",
   "metadata": {},
   "source": [
    "### 6.1) Split the data into training and testing"
   ]
  },
  {
   "cell_type": "code",
   "execution_count": 121,
   "metadata": {},
   "outputs": [],
   "source": [
    "from sklearn.model_selection import train_test_split\n",
    "X_train, X_test, y_train, y_test = train_test_split(clean_df.iloc[:,:-1],clean_df['sitc_eci'], \n",
    "                                                    test_size=0.2, random_state=1)\n"
   ]
  },
  {
   "cell_type": "code",
   "execution_count": 122,
   "metadata": {},
   "outputs": [
    {
     "data": {
      "text/plain": [
       "(436, 4)"
      ]
     },
     "execution_count": 122,
     "metadata": {},
     "output_type": "execute_result"
    }
   ],
   "source": [
    "X_train.shape"
   ]
  },
  {
   "cell_type": "code",
   "execution_count": 123,
   "metadata": {},
   "outputs": [
    {
     "data": {
      "text/plain": [
       "(109, 4)"
      ]
     },
     "execution_count": 123,
     "metadata": {},
     "output_type": "execute_result"
    }
   ],
   "source": [
    "X_test.shape"
   ]
  },
  {
   "cell_type": "markdown",
   "metadata": {},
   "source": [
    "### 6.2) Linear Regression"
   ]
  },
  {
   "cell_type": "code",
   "execution_count": 124,
   "metadata": {},
   "outputs": [],
   "source": [
    "from sklearn.linear_model import LinearRegression\n",
    "from sklearn.linear_model import Ridge\n",
    "from sklearn.linear_model import Lasso\n",
    "from sklearn.metrics import mean_squared_error"
   ]
  },
  {
   "cell_type": "code",
   "execution_count": 125,
   "metadata": {},
   "outputs": [
    {
     "data": {
      "text/plain": [
       "LinearRegression()"
      ]
     },
     "execution_count": 125,
     "metadata": {},
     "output_type": "execute_result"
    }
   ],
   "source": [
    "lr = LinearRegression()\n",
    "lr.fit(X_train,y_train)"
   ]
  },
  {
   "cell_type": "code",
   "execution_count": 126,
   "metadata": {},
   "outputs": [
    {
     "data": {
      "text/plain": [
       "0.4635801996879614"
      ]
     },
     "execution_count": 126,
     "metadata": {},
     "output_type": "execute_result"
    }
   ],
   "source": [
    "# Train MSE\n",
    "pred = lr.predict(X_train)\n",
    "mean_squared_error(y_train,pred)"
   ]
  },
  {
   "cell_type": "code",
   "execution_count": 127,
   "metadata": {},
   "outputs": [
    {
     "data": {
      "text/plain": [
       "0.5504940734260749"
      ]
     },
     "execution_count": 127,
     "metadata": {},
     "output_type": "execute_result"
    }
   ],
   "source": [
    "# Test MSE\n",
    "pred = lr.predict(X_test)\n",
    "mean_squared_error(y_test,pred)"
   ]
  },
  {
   "cell_type": "markdown",
   "metadata": {},
   "source": [
    "### 6.3) KNN Regression"
   ]
  },
  {
   "cell_type": "code",
   "execution_count": 128,
   "metadata": {},
   "outputs": [],
   "source": [
    "from sklearn.neighbors import KNeighborsRegressor"
   ]
  },
  {
   "cell_type": "code",
   "execution_count": 129,
   "metadata": {},
   "outputs": [
    {
     "data": {
      "text/plain": [
       "KNeighborsRegressor()"
      ]
     },
     "execution_count": 129,
     "metadata": {},
     "output_type": "execute_result"
    }
   ],
   "source": [
    "knn = KNeighborsRegressor()\n",
    "knn.fit(X_train,y_train)"
   ]
  },
  {
   "cell_type": "code",
   "execution_count": 130,
   "metadata": {},
   "outputs": [
    {
     "data": {
      "text/plain": [
       "0.37643036231734245"
      ]
     },
     "execution_count": 130,
     "metadata": {},
     "output_type": "execute_result"
    }
   ],
   "source": [
    "# Train MSE\n",
    "pred = knn.predict(X_train)\n",
    "mean_squared_error(y_train,pred)"
   ]
  },
  {
   "cell_type": "code",
   "execution_count": 131,
   "metadata": {},
   "outputs": [
    {
     "data": {
      "text/plain": [
       "0.5783823721073461"
      ]
     },
     "execution_count": 131,
     "metadata": {},
     "output_type": "execute_result"
    }
   ],
   "source": [
    "# Test MSE\n",
    "pred = knn.predict(X_test)\n",
    "mean_squared_error(y_test,pred)"
   ]
  },
  {
   "cell_type": "markdown",
   "metadata": {},
   "source": [
    "### 6.4) Random Forests Regression"
   ]
  },
  {
   "cell_type": "code",
   "execution_count": 132,
   "metadata": {},
   "outputs": [],
   "source": [
    "from sklearn.ensemble import RandomForestRegressor"
   ]
  },
  {
   "cell_type": "code",
   "execution_count": 133,
   "metadata": {},
   "outputs": [
    {
     "data": {
      "text/plain": [
       "RandomForestRegressor()"
      ]
     },
     "execution_count": 133,
     "metadata": {},
     "output_type": "execute_result"
    }
   ],
   "source": [
    "forest = RandomForestRegressor()\n",
    "forest.fit(X_train,y_train)"
   ]
  },
  {
   "cell_type": "code",
   "execution_count": 134,
   "metadata": {},
   "outputs": [
    {
     "data": {
      "text/plain": [
       "0.04946434184032744"
      ]
     },
     "execution_count": 134,
     "metadata": {},
     "output_type": "execute_result"
    }
   ],
   "source": [
    "pred = forest.predict(X_train)\n",
    "mean_squared_error(y_train,pred)"
   ]
  },
  {
   "cell_type": "code",
   "execution_count": 135,
   "metadata": {},
   "outputs": [
    {
     "data": {
      "text/plain": [
       "0.41737360220799347"
      ]
     },
     "execution_count": 135,
     "metadata": {},
     "output_type": "execute_result"
    }
   ],
   "source": [
    "pred = forest.predict(X_test)\n",
    "mean_squared_error(y_test,pred)"
   ]
  },
  {
   "cell_type": "markdown",
   "metadata": {},
   "source": [
    "# 7) Model CV Grid Search to Choose Model and Tune Parameters"
   ]
  },
  {
   "cell_type": "code",
   "execution_count": 138,
   "metadata": {},
   "outputs": [],
   "source": [
    "from sklearn.model_selection import GridSearchCV\n",
    "from sklearn.metrics import mean_squared_error\n",
    "from sklearn.metrics import fbeta_score, make_scorer\n",
    "\n",
    "# Make an mse scorer for the following grid searches\n",
    "mse = make_scorer(mean_squared_error, greater_is_better=False)"
   ]
  },
  {
   "cell_type": "markdown",
   "metadata": {},
   "source": [
    "## 7.1) Linear Regression Grid CV"
   ]
  },
  {
   "cell_type": "code",
   "execution_count": 139,
   "metadata": {},
   "outputs": [
    {
     "data": {
      "text/plain": [
       "{'copy_X': True, 'fit_intercept': True, 'n_jobs': None, 'normalize': False}"
      ]
     },
     "execution_count": 139,
     "metadata": {},
     "output_type": "execute_result"
    }
   ],
   "source": [
    "lr = LinearRegression()\n",
    "lr.get_params()"
   ]
  },
  {
   "cell_type": "code",
   "execution_count": 140,
   "metadata": {},
   "outputs": [
    {
     "data": {
      "text/plain": [
       "GridSearchCV(cv=10, estimator=LinearRegression(),\n",
       "             param_grid={'fit_intercept': [True, False],\n",
       "                         'normalize': [True, False]},\n",
       "             scoring=make_scorer(mean_squared_error, greater_is_better=False))"
      ]
     },
     "execution_count": 140,
     "metadata": {},
     "output_type": "execute_result"
    }
   ],
   "source": [
    "params = {'fit_intercept':[True,False],\n",
    "         'normalize':[True,False]}\n",
    "grid_lr = GridSearchCV(lr, params, cv = 10, scoring = mse)\n",
    "\n",
    "grid_lr.fit(X_train,y_train)"
   ]
  },
  {
   "cell_type": "code",
   "execution_count": 141,
   "metadata": {},
   "outputs": [
    {
     "data": {
      "text/plain": [
       "{'fit_intercept': True, 'normalize': False}"
      ]
     },
     "execution_count": 141,
     "metadata": {},
     "output_type": "execute_result"
    }
   ],
   "source": [
    "grid_lr.best_params_"
   ]
  },
  {
   "cell_type": "code",
   "execution_count": 142,
   "metadata": {},
   "outputs": [
    {
     "data": {
      "text/plain": [
       "0.49130920558885344"
      ]
     },
     "execution_count": 142,
     "metadata": {},
     "output_type": "execute_result"
    }
   ],
   "source": [
    "best_cv_score_lr = abs(grid_lr.best_score_)\n",
    "best_cv_score_lr"
   ]
  },
  {
   "cell_type": "code",
   "execution_count": 143,
   "metadata": {},
   "outputs": [
    {
     "data": {
      "text/plain": [
       "0.4635801996879614"
      ]
     },
     "execution_count": 143,
     "metadata": {},
     "output_type": "execute_result"
    }
   ],
   "source": [
    "# Training MSE\n",
    "pred = grid_lr.predict(X_train)\n",
    "train_lr = mean_squared_error(y_train,pred)\n",
    "train_lr"
   ]
  },
  {
   "cell_type": "code",
   "execution_count": 144,
   "metadata": {},
   "outputs": [
    {
     "data": {
      "text/plain": [
       "0.5504940734260749"
      ]
     },
     "execution_count": 144,
     "metadata": {},
     "output_type": "execute_result"
    }
   ],
   "source": [
    "# Testing MSE\n",
    "pred = grid_lr.predict(X_test)\n",
    "test_lr = mean_squared_error(y_test,pred)\n",
    "test_lr"
   ]
  },
  {
   "cell_type": "markdown",
   "metadata": {},
   "source": [
    "## 7.2) KNN Grid Search CV"
   ]
  },
  {
   "cell_type": "code",
   "execution_count": 145,
   "metadata": {},
   "outputs": [
    {
     "data": {
      "text/plain": [
       "{'algorithm': 'auto',\n",
       " 'leaf_size': 30,\n",
       " 'metric': 'minkowski',\n",
       " 'metric_params': None,\n",
       " 'n_jobs': None,\n",
       " 'n_neighbors': 5,\n",
       " 'p': 2,\n",
       " 'weights': 'uniform'}"
      ]
     },
     "execution_count": 145,
     "metadata": {},
     "output_type": "execute_result"
    }
   ],
   "source": [
    "knn = KNeighborsRegressor()\n",
    "knn.get_params()"
   ]
  },
  {
   "cell_type": "code",
   "execution_count": 146,
   "metadata": {},
   "outputs": [],
   "source": [
    "params = {'leaf_size':list(range(1,50)),\n",
    "         'n_neighbors':[2,3,4,5,6,7,8,9,10],\n",
    "         'p':[1,2]}\n",
    "grid_knn = GridSearchCV(knn, params, cv = 10, scoring = mse)"
   ]
  },
  {
   "cell_type": "code",
   "execution_count": 147,
   "metadata": {},
   "outputs": [
    {
     "data": {
      "text/plain": [
       "GridSearchCV(cv=10, estimator=KNeighborsRegressor(),\n",
       "             param_grid={'leaf_size': [1, 2, 3, 4, 5, 6, 7, 8, 9, 10, 11, 12,\n",
       "                                       13, 14, 15, 16, 17, 18, 19, 20, 21, 22,\n",
       "                                       23, 24, 25, 26, 27, 28, 29, 30, ...],\n",
       "                         'n_neighbors': [2, 3, 4, 5, 6, 7, 8, 9, 10],\n",
       "                         'p': [1, 2]},\n",
       "             scoring=make_scorer(mean_squared_error, greater_is_better=False))"
      ]
     },
     "execution_count": 147,
     "metadata": {},
     "output_type": "execute_result"
    }
   ],
   "source": [
    "grid_knn.fit(X_train,y_train)"
   ]
  },
  {
   "cell_type": "code",
   "execution_count": 148,
   "metadata": {},
   "outputs": [
    {
     "data": {
      "text/plain": [
       "{'leaf_size': 1, 'n_neighbors': 9, 'p': 1}"
      ]
     },
     "execution_count": 148,
     "metadata": {},
     "output_type": "execute_result"
    }
   ],
   "source": [
    "grid_knn.best_params_"
   ]
  },
  {
   "cell_type": "code",
   "execution_count": 149,
   "metadata": {},
   "outputs": [
    {
     "data": {
      "text/plain": [
       "0.4975315575779372"
      ]
     },
     "execution_count": 149,
     "metadata": {},
     "output_type": "execute_result"
    }
   ],
   "source": [
    "best_cv_score_knn = abs(grid_knn.best_score_)\n",
    "best_cv_score_knn\n"
   ]
  },
  {
   "cell_type": "code",
   "execution_count": 150,
   "metadata": {},
   "outputs": [
    {
     "data": {
      "text/plain": [
       "0.3956613618051197"
      ]
     },
     "execution_count": 150,
     "metadata": {},
     "output_type": "execute_result"
    }
   ],
   "source": [
    "# Training MSE\n",
    "pred = grid_knn.predict(X_train)\n",
    "train_knn = mean_squared_error(y_train,pred)\n",
    "train_knn"
   ]
  },
  {
   "cell_type": "code",
   "execution_count": 151,
   "metadata": {},
   "outputs": [
    {
     "data": {
      "text/plain": [
       "0.4823682148455555"
      ]
     },
     "execution_count": 151,
     "metadata": {},
     "output_type": "execute_result"
    }
   ],
   "source": [
    "# Tresting MSE\n",
    "pred = grid_knn.predict(X_test)\n",
    "test_knn = mean_squared_error(y_test,pred)\n",
    "test_knn"
   ]
  },
  {
   "cell_type": "markdown",
   "metadata": {},
   "source": [
    "## 7.3) Random Forests"
   ]
  },
  {
   "cell_type": "code",
   "execution_count": 152,
   "metadata": {},
   "outputs": [
    {
     "data": {
      "text/plain": [
       "{'bootstrap': True,\n",
       " 'ccp_alpha': 0.0,\n",
       " 'criterion': 'mse',\n",
       " 'max_depth': None,\n",
       " 'max_features': 'auto',\n",
       " 'max_leaf_nodes': None,\n",
       " 'max_samples': None,\n",
       " 'min_impurity_decrease': 0.0,\n",
       " 'min_impurity_split': None,\n",
       " 'min_samples_leaf': 1,\n",
       " 'min_samples_split': 2,\n",
       " 'min_weight_fraction_leaf': 0.0,\n",
       " 'n_estimators': 100,\n",
       " 'n_jobs': None,\n",
       " 'oob_score': False,\n",
       " 'random_state': None,\n",
       " 'verbose': 0,\n",
       " 'warm_start': False}"
      ]
     },
     "execution_count": 152,
     "metadata": {},
     "output_type": "execute_result"
    }
   ],
   "source": [
    "forest = RandomForestRegressor()\n",
    "forest.get_params()"
   ]
  },
  {
   "cell_type": "code",
   "execution_count": 153,
   "metadata": {},
   "outputs": [
    {
     "name": "stdout",
     "output_type": "stream",
     "text": [
      "CPU times: user 8min 45s, sys: 7.69 s, total: 8min 53s\n",
      "Wall time: 9min 58s\n"
     ]
    },
    {
     "data": {
      "text/plain": [
       "GridSearchCV(cv=10, estimator=RandomForestRegressor(),\n",
       "             param_grid={'max_depth': [2, 3, 4, 5],\n",
       "                         'max_features': ['auto', 'sqrt', 'log2'],\n",
       "                         'min_samples_split': [2, 3, 4, 5, 10],\n",
       "                         'n_estimators': [75, 100, 150, 200]},\n",
       "             scoring=make_scorer(mean_squared_error, greater_is_better=False))"
      ]
     },
     "execution_count": 153,
     "metadata": {},
     "output_type": "execute_result"
    }
   ],
   "source": [
    "%%time\n",
    "params = {'max_depth':[2,3,4,5],\n",
    "         'n_estimators':[75,100,150,200],\n",
    "          'min_samples_split': [2,3,4,5,10],\n",
    "          'max_features': ['auto','sqrt','log2']\n",
    "         }\n",
    "grid_forest = GridSearchCV(forest, params, cv = 10, scoring = mse)\n",
    "\n",
    "grid_forest.fit(X_train,y_train)"
   ]
  },
  {
   "cell_type": "code",
   "execution_count": 154,
   "metadata": {},
   "outputs": [
    {
     "data": {
      "text/plain": [
       "{'max_depth': 5,\n",
       " 'max_features': 'auto',\n",
       " 'min_samples_split': 3,\n",
       " 'n_estimators': 150}"
      ]
     },
     "execution_count": 154,
     "metadata": {},
     "output_type": "execute_result"
    }
   ],
   "source": [
    "grid_forest.best_params_"
   ]
  },
  {
   "cell_type": "code",
   "execution_count": 155,
   "metadata": {},
   "outputs": [
    {
     "data": {
      "text/plain": [
       "0.37482445974348827"
      ]
     },
     "execution_count": 155,
     "metadata": {},
     "output_type": "execute_result"
    }
   ],
   "source": [
    "best_cv_score_forest = abs(grid_forest.best_score_)\n",
    "best_cv_score_forest"
   ]
  },
  {
   "cell_type": "code",
   "execution_count": 156,
   "metadata": {},
   "outputs": [
    {
     "data": {
      "text/plain": [
       "0.2247189542877344"
      ]
     },
     "execution_count": 156,
     "metadata": {},
     "output_type": "execute_result"
    }
   ],
   "source": [
    "# Training MSE\n",
    "pred = grid_forest.predict(X_train)\n",
    "train_forest = mean_squared_error(y_train,pred)\n",
    "train_forest"
   ]
  },
  {
   "cell_type": "code",
   "execution_count": 157,
   "metadata": {},
   "outputs": [
    {
     "data": {
      "text/plain": [
       "0.43884755767359396"
      ]
     },
     "execution_count": 157,
     "metadata": {},
     "output_type": "execute_result"
    }
   ],
   "source": [
    "# Tresting MSE\n",
    "pred = grid_forest.predict(X_test)\n",
    "test_forest = mean_squared_error(y_test,pred)\n",
    "test_forest"
   ]
  },
  {
   "cell_type": "markdown",
   "metadata": {},
   "source": [
    "# 8) Testing and Evaluation"
   ]
  },
  {
   "cell_type": "markdown",
   "metadata": {},
   "source": [
    "### 8.1) Visualize the performance of the tuned grid search models created above"
   ]
  },
  {
   "cell_type": "code",
   "execution_count": 160,
   "metadata": {},
   "outputs": [
    {
     "data": {
      "image/png": "[encoded data removed]",
      "text/plain": [
       "<Figure size 576x432 with 1 Axes>"
      ]
     },
     "metadata": {
      "needs_background": "light"
     },
     "output_type": "display_data"
    }
   ],
   "source": [
    "training_mse = [train_forest,train_knn,train_lr]\n",
    "testing_mse = [test_forest,test_knn,test_lr]\n",
    "cv_mse = [best_cv_score_forest, best_cv_score_knn, best_cv_score_lr]\n",
    "\n",
    "labels = ['Random Forest', 'KNN Regression', 'Linear Regression']\n",
    "\n",
    "x = [i for i in range(len(cv_mse))]\n",
    "\n",
    "fig, ax = plt.subplots(figsize=(8, 6))\n",
    "\n",
    "train = ax.bar(np.array(x)-0.2, training_mse, width = 0.2, label = 'Training')\n",
    "cv = ax.bar(np.array(x), cv_mse, width = 0.2, label = 'Validation')\n",
    "test = ax.bar(np.array(x)+0.2, testing_mse, width = 0.2,label = 'Testing')\n",
    "ax.legend()\n",
    "plt.xticks(range(min(x+x), max(x+x)+1)) \n",
    "ax.set_xticklabels(labels)\n",
    "plt.ylabel('MSE')\n",
    "plt.title('MSE For Training, Validation and Testing')\n",
    "plt.show()"
   ]
  },
  {
   "cell_type": "markdown",
   "metadata": {},
   "source": [
    "#### The above graph tells us that while it is overfit the random forest method is the most accurate and will be chosen as the final model"
   ]
  },
  {
   "cell_type": "markdown",
   "metadata": {},
   "source": [
    "### 8.2) Evaluate and Visualize the final model"
   ]
  },
  {
   "cell_type": "code",
   "execution_count": 162,
   "metadata": {},
   "outputs": [],
   "source": [
    "from sklearn.tree import export_graphviz\n",
    "import graphviz\n",
    "from sklearn import tree\n",
    "import pydotplus\n",
    "import io\n"
   ]
  },
  {
   "cell_type": "code",
   "execution_count": 163,
   "metadata": {},
   "outputs": [
    {
     "data": {
      "text/plain": [
       "'Source.gv.png'"
      ]
     },
     "execution_count": 163,
     "metadata": {},
     "output_type": "execute_result"
    }
   ],
   "source": [
    "# View the decision tree for the final random forest model tuned in the gridsearch above\n",
    "import graphviz\n",
    "\n",
    "\n",
    "# DOT data\n",
    "dot_data = tree.export_graphviz(grid_forest.best_estimator_.estimators_[74], out_file=None, \n",
    "                                feature_names=clean_df.columns[:-1],  \n",
    "                                class_names=clean_df.columns[-1],\n",
    "                                filled=True,\n",
    "                                rotate =False)\n",
    "\n",
    "# Draw graph\n",
    "graph = graphviz.Source(dot_data, format=\"png\")\n",
    "graph.view()"
   ]
  },
  {
   "cell_type": "code",
   "execution_count": 164,
   "metadata": {},
   "outputs": [
    {
     "data": {
      "image/png": "[encoded data removed]",
      "text/plain": [
       "<Figure size 432x288 with 1 Axes>"
      ]
     },
     "metadata": {
      "needs_background": "light"
     },
     "output_type": "display_data"
    }
   ],
   "source": [
    "# Visualize the predictions made by the model compared to the actual testing outcome variable\n",
    "pred = grid_forest.predict(X_test)\n",
    "predicted = plt.scatter(range(len(pred)),pred)\n",
    "actual = plt.scatter(range(len(y_test)),y_test, color = 'Red')\n",
    "plt.legend((predicted,actual),\n",
    "           ('Predicted_Y', 'Test_Y'),\n",
    "           scatterpoints=1,\n",
    "           loc='upper right',\n",
    "           fontsize=8)\n",
    "plt.title('Predicted vs Actual')\n",
    "plt.ylabel('ECI')\n",
    "plt.show()"
   ]
  }
 ],
 "metadata": {
  "kernelspec": {
   "display_name": "Python 3",
   "language": "python",
   "name": "python3"
  },
  "language_info": {
   "codemirror_mode": {
    "name": "ipython",
    "version": 3
   },
   "file_extension": ".py",
   "mimetype": "text/x-python",
   "name": "python",
   "nbconvert_exporter": "python",
   "pygments_lexer": "ipython3",
   "version": "3.8.2"
  }
 },
 "nbformat": 4,
 "nbformat_minor": 4
}
